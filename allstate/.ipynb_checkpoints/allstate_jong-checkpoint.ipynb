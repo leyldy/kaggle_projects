{
 "cells": [
  {
   "cell_type": "markdown",
   "metadata": {},
   "source": [
    "# ALLSTATE CLAIMS SEVERITY"
   ]
  },
  {
   "cell_type": "code",
   "execution_count": 9,
   "metadata": {
    "collapsed": true
   },
   "outputs": [],
   "source": [
    "import numpy as np\n",
    "import pandas as pd\n",
    "from pandas import DataFrame, Series\n",
    "import matplotlib.pyplot as plt\n",
    "%matplotlib inline\n",
    "import seaborn as sns\n",
    "import math\n",
    "from sklearn import neighbors, datasets, ensemble, cross_validation, utils\n",
    "from sklearn.metrics import mean_absolute_error\n",
    "from sklearn.neighbors import KNeighborsClassifier as KNN\n",
    "from sklearn.ensemble import RandomForestClassifier\n",
    "from sklearn.cross_validation import train_test_split\n",
    "import statsmodels.api as sm\n",
    "from sklearn.cross_validation import cross_val_score\n",
    "from scipy import stats"
   ]
  },
  {
   "cell_type": "markdown",
   "metadata": {},
   "source": [
    "## EXPLORATORY DATA ANALYSIS"
   ]
  },
  {
   "cell_type": "markdown",
   "metadata": {},
   "source": [
    "First, we will find how many unique values there are in each column containing \"cat#\", and list out in an array what those unique values are. Hopefully by these counts we are able to find some type of pattern!"
   ]
  },
  {
   "cell_type": "code",
   "execution_count": 2,
   "metadata": {
    "collapsed": false
   },
   "outputs": [],
   "source": [
    "#Read data\n",
    "train = pd.read_csv('train.csv')\n",
    "test = pd.read_csv('test.csv')"
   ]
  },
  {
   "cell_type": "code",
   "execution_count": 3,
   "metadata": {
    "collapsed": false
   },
   "outputs": [
    {
     "name": "stdout",
     "output_type": "stream",
     "text": [
      "cat1 : ['A' 'B'] Total unique values:  2\n",
      "cat2 : ['B' 'A'] Total unique values:  2\n",
      "cat3 : ['A' 'B'] Total unique values:  2\n",
      "cat4 : ['B' 'A'] Total unique values:  2\n",
      "cat5 : ['A' 'B'] Total unique values:  2\n",
      "cat6 : ['A' 'B'] Total unique values:  2\n",
      "cat7 : ['A' 'B'] Total unique values:  2\n",
      "cat8 : ['A' 'B'] Total unique values:  2\n",
      "cat9 : ['B' 'A'] Total unique values:  2\n",
      "cat10 : ['A' 'B'] Total unique values:  2\n",
      "cat11 : ['B' 'A'] Total unique values:  2\n",
      "cat12 : ['A' 'B'] Total unique values:  2\n",
      "cat13 : ['A' 'B'] Total unique values:  2\n",
      "cat14 : ['A' 'B'] Total unique values:  2\n",
      "cat15 : ['A' 'B'] Total unique values:  2\n",
      "cat16 : ['A' 'B'] Total unique values:  2\n",
      "cat17 : ['A' 'B'] Total unique values:  2\n",
      "cat18 : ['A' 'B'] Total unique values:  2\n",
      "cat19 : ['A' 'B'] Total unique values:  2\n",
      "cat20 : ['A' 'B'] Total unique values:  2\n",
      "cat21 : ['A' 'B'] Total unique values:  2\n",
      "cat22 : ['A' 'B'] Total unique values:  2\n",
      "cat23 : ['B' 'A'] Total unique values:  2\n",
      "cat24 : ['A' 'B'] Total unique values:  2\n",
      "cat25 : ['A' 'B'] Total unique values:  2\n",
      "cat26 : ['A' 'B'] Total unique values:  2\n",
      "cat27 : ['A' 'B'] Total unique values:  2\n",
      "cat28 : ['A' 'B'] Total unique values:  2\n",
      "cat29 : ['A' 'B'] Total unique values:  2\n",
      "cat30 : ['A' 'B'] Total unique values:  2\n",
      "cat31 : ['A' 'B'] Total unique values:  2\n",
      "cat32 : ['A' 'B'] Total unique values:  2\n",
      "cat33 : ['A' 'B'] Total unique values:  2\n",
      "cat34 : ['A' 'B'] Total unique values:  2\n",
      "cat35 : ['A' 'B'] Total unique values:  2\n",
      "cat36 : ['A' 'B'] Total unique values:  2\n",
      "cat37 : ['A' 'B'] Total unique values:  2\n",
      "cat38 : ['A' 'B'] Total unique values:  2\n",
      "cat39 : ['A' 'B'] Total unique values:  2\n",
      "cat40 : ['A' 'B'] Total unique values:  2\n",
      "cat41 : ['A' 'B'] Total unique values:  2\n",
      "cat42 : ['A' 'B'] Total unique values:  2\n",
      "cat43 : ['A' 'B'] Total unique values:  2\n",
      "cat44 : ['A' 'B'] Total unique values:  2\n",
      "cat45 : ['A' 'B'] Total unique values:  2\n",
      "cat46 : ['A' 'B'] Total unique values:  2\n",
      "cat47 : ['A' 'B'] Total unique values:  2\n",
      "cat48 : ['A' 'B'] Total unique values:  2\n",
      "cat49 : ['A' 'B'] Total unique values:  2\n",
      "cat50 : ['A' 'B'] Total unique values:  2\n",
      "cat51 : ['A' 'B'] Total unique values:  2\n",
      "cat52 : ['A' 'B'] Total unique values:  2\n",
      "cat53 : ['A' 'B'] Total unique values:  2\n",
      "cat54 : ['A' 'B'] Total unique values:  2\n",
      "cat55 : ['A' 'B'] Total unique values:  2\n",
      "cat56 : ['A' 'B'] Total unique values:  2\n",
      "cat57 : ['A' 'B'] Total unique values:  2\n",
      "cat58 : ['A' 'B'] Total unique values:  2\n",
      "cat59 : ['A' 'B'] Total unique values:  2\n",
      "cat60 : ['A' 'B'] Total unique values:  2\n",
      "cat61 : ['A' 'B'] Total unique values:  2\n",
      "cat62 : ['A' 'B'] Total unique values:  2\n",
      "cat63 : ['A' 'B'] Total unique values:  2\n",
      "cat64 : ['A' 'B'] Total unique values:  2\n",
      "cat65 : ['A' 'B'] Total unique values:  2\n",
      "cat66 : ['A' 'B'] Total unique values:  2\n",
      "cat67 : ['A' 'B'] Total unique values:  2\n",
      "cat68 : ['A' 'B'] Total unique values:  2\n",
      "cat69 : ['A' 'B'] Total unique values:  2\n",
      "cat70 : ['A' 'B'] Total unique values:  2\n",
      "cat71 : ['A' 'B'] Total unique values:  2\n",
      "cat72 : ['A' 'B'] Total unique values:  2\n",
      "cat73 : ['A' 'B' 'C'] Total unique values:  3\n",
      "cat74 : ['A' 'B' 'C'] Total unique values:  3\n",
      "cat75 : ['B' 'A' 'C'] Total unique values:  3\n",
      "cat76 : ['A' 'C' 'B'] Total unique values:  3\n",
      "cat77 : ['D' 'C' 'B' 'A'] Total unique values:  4\n",
      "cat78 : ['B' 'A' 'C' 'D'] Total unique values:  4\n",
      "cat79 : ['B' 'D' 'A' 'C'] Total unique values:  4\n",
      "cat80 : ['D' 'B' 'A' 'C'] Total unique values:  4\n",
      "cat81 : ['D' 'B' 'A' 'C'] Total unique values:  4\n",
      "cat82 : ['B' 'A' 'D' 'C'] Total unique values:  4\n",
      "cat83 : ['D' 'B' 'A' 'C'] Total unique values:  4\n",
      "cat84 : ['C' 'A' 'D' 'B'] Total unique values:  4\n",
      "cat85 : ['B' 'A' 'C' 'D'] Total unique values:  4\n",
      "cat86 : ['D' 'B' 'C' 'A'] Total unique values:  4\n",
      "cat87 : ['B' 'C' 'D' 'A'] Total unique values:  4\n",
      "cat88 : ['A' 'D' 'E' 'B'] Total unique values:  4\n",
      "cat89 : ['A' 'B' 'C' 'E' 'D' 'H' 'I' 'G'] Total unique values:  8\n",
      "cat90 : ['A' 'B' 'C' 'D' 'F' 'E' 'G'] Total unique values:  7\n",
      "cat91 : ['A' 'B' 'G' 'C' 'D' 'E' 'F' 'H'] Total unique values:  8\n",
      "cat92 : ['A' 'H' 'B' 'C' 'D' 'I' 'F'] Total unique values:  7\n",
      "cat93 : ['D' 'C' 'A' 'B' 'E'] Total unique values:  5\n",
      "cat94 : ['B' 'D' 'C' 'A' 'F' 'E' 'G'] Total unique values:  7\n",
      "cat95 : ['C' 'D' 'E' 'A' 'B'] Total unique values:  5\n",
      "cat96 : ['E' 'D' 'G' 'B' 'F' 'A' 'I' 'C'] Total unique values:  8\n",
      "cat97 : ['A' 'E' 'C' 'G' 'D' 'F' 'B'] Total unique values:  7\n",
      "cat98 : ['C' 'D' 'A' 'E' 'B'] Total unique values:  5\n",
      "cat99 : ['T' 'D' 'P' 'S' 'R' 'K' 'E' 'F' 'N' 'J' 'C' 'M' 'H' 'G' 'I' 'O'] Total unique values:  16\n",
      "cat100 : ['B' 'L' 'I' 'F' 'J' 'H' 'C' 'M' 'A' 'G' 'O' 'N' 'K' 'D' 'E'] Total unique values:  15\n",
      "cat101 : ['G' 'F' 'O' 'D' 'J' 'A' 'C' 'Q' 'M' 'I' 'L' 'R' 'S' 'E' 'N' 'H' 'B' 'U'\n",
      " 'K'] Total unique values:  19\n",
      "cat102 : ['A' 'C' 'B' 'D' 'G' 'E' 'F' 'H' 'J'] Total unique values:  9\n",
      "cat103 : ['A' 'B' 'C' 'F' 'E' 'D' 'G' 'H' 'I' 'L' 'K' 'J' 'N'] Total unique values:  13\n",
      "cat104 : ['I' 'E' 'D' 'K' 'H' 'F' 'G' 'P' 'C' 'J' 'L' 'M' 'N' 'O' 'B' 'A' 'Q'] Total unique values:  17\n",
      "cat105 : ['E' 'F' 'H' 'G' 'I' 'D' 'J' 'K' 'M' 'C' 'A' 'L' 'N' 'P' 'T' 'Q' 'R' 'O'\n",
      " 'B' 'S'] Total unique values:  20\n",
      "cat106 : ['G' 'I' 'H' 'K' 'F' 'J' 'E' 'L' 'M' 'D' 'A' 'C' 'N' 'O' 'R' 'B' 'P'] Total unique values:  17\n",
      "cat107 : ['J' 'K' 'F' 'G' 'I' 'M' 'H' 'L' 'E' 'D' 'O' 'C' 'N' 'A' 'Q' 'P' 'U' 'B'\n",
      " 'R' 'S'] Total unique values:  20\n",
      "cat108 : ['G' 'K' 'A' 'B' 'D' 'I' 'F' 'H' 'E' 'C' 'J'] Total unique values:  11\n",
      "cat109 : ['BU' 'BI' 'AB' 'H' 'K' 'CD' 'BQ' 'M' 'G' 'BL' 'L' 'AL' 'N' 'CL' 'R' 'F'\n",
      " 'BJ' 'AR' 'AT' 'S' 'AS' 'BO' 'X' 'D' 'BM' 'I' 'BH' 'CI' 'CF' 'C' 'AM' 'U'\n",
      " 'BE' 'BR' 'CJ' 'AE' 'A' 'Q' 'AW' 'T' 'AJ' 'AH' 'BA' 'BV' 'CC' 'CA' 'BG'\n",
      " 'BB' 'O' 'BD' 'AV' 'AX' 'AQ' 'AA' 'AI' 'AU' 'BX' 'AP' 'CK' 'Y' 'CH' 'BS'\n",
      " 'AN' 'AO' 'BC' 'CE' 'E' 'BY' 'CB' 'BT' 'P' 'BK' 'AF' 'B' 'BF' 'CG' 'V'\n",
      " 'ZZ' 'AY' 'BP' 'BN' 'J' 'AG' 'AK'] Total unique values:  84\n",
      "cat110 : ['BC' 'CQ' 'DK' 'CS' 'C' 'EB' 'DW' 'AM' 'AI' 'EG' 'CL' 'BS' 'BT' 'CO' 'CM'\n",
      " 'EL' 'AY' 'W' 'EE' 'AC' 'DX' 'CI' 'DT' 'A' 'V' 'DM' 'EF' 'DL' 'DA' 'BP'\n",
      " 'DH' 'CF' 'N' 'T' 'CR' 'X' 'CH' 'EM' 'DC' 'AX' 'BG' 'CJ' 'EA' 'AD' 'U'\n",
      " 'AK' 'BX' 'AW' 'G' 'BA' 'L' 'AP' 'CG' 'R' 'DU' 'I' 'AR' 'O' 'DF' 'AT' 'E'\n",
      " 'AB' 'AU' 'DI' 'CN' 'CP' 'AL' 'ED' 'DJ' 'AO' 'CY' 'BE' 'BJ' 'D' 'AA' 'CK'\n",
      " 'CV' 'BK' 'BB' 'AE' 'BO' 'P' 'DO' 'CT' 'AJ' 'BR' 'Y' 'DR' 'BQ' 'BL' 'B'\n",
      " 'BW' 'H' 'DP' 'DG' 'AG' 'BN' 'J' 'CW' 'DV' 'Q' 'DY' 'EI' 'AV' 'DQ' 'BU'\n",
      " 'K' 'BF' 'BD' 'DS' 'DE' 'BM' 'BY' 'CD' 'BI' 'DD' 'DB' 'AH' 'CC' 'DN' 'CU'\n",
      " 'BV' 'CX' 'AN' 'EK' 'EJ' 'AS' 'AF' 'CB' 'EH' 'S'] Total unique values:  131\n",
      "cat111 : ['C' 'A' 'G' 'E' 'I' 'M' 'W' 'S' 'K' 'O' 'Q' 'U' 'F' 'B' 'Y' 'D'] Total unique values:  16\n",
      "cat112 : ['AS' 'AV' 'C' 'N' 'Y' 'J' 'AH' 'K' 'U' 'E' 'AK' 'AI' 'AE' 'A' 'L' 'F' 'AP'\n",
      " 'AD' 'AF' 'AL' 'AN' 'S' 'AW' 'I' 'AR' 'AX' 'AU' 'AQ' 'O' 'AO' 'R' 'H' 'G'\n",
      " 'AC' 'AT' 'AG' 'X' 'AA' 'Q' 'AY' 'D' 'BA' 'P' 'B' 'AM' 'M' 'T' 'W' 'V'\n",
      " 'AB' 'AJ'] Total unique values:  51\n",
      "cat113 : ['S' 'BM' 'AF' 'AE' 'Y' 'AX' 'H' 'K' 'L' 'A' 'J' 'AK' 'N' 'M' 'AJ' 'AT' 'F'\n",
      " 'BC' 'AY' 'AD' 'BG' 'BO' 'AS' 'BD' 'AN' 'I' 'BF' 'BK' 'AW' 'AG' 'BJ' 'AO'\n",
      " 'Q' 'AM' 'X' 'AU' 'BN' 'BH' 'AI' 'C' 'AV' 'AQ' 'AH' 'G' 'E' 'BA' 'AL' 'BI'\n",
      " 'U' 'AB' 'V' 'O' 'BB' 'AP' 'B' 'BL' 'BE' 'T' 'P' 'AC' 'AR'] Total unique values:  61\n",
      "cat114 : ['A' 'J' 'E' 'C' 'F' 'L' 'N' 'I' 'R' 'U' 'O' 'B' 'Q' 'V' 'D' 'X' 'W' 'S'\n",
      " 'G'] Total unique values:  19\n",
      "cat115 : ['O' 'I' 'K' 'P' 'Q' 'L' 'J' 'R' 'N' 'M' 'H' 'G' 'F' 'A' 'S' 'W' 'T' 'C'\n",
      " 'E' 'D' 'B' 'X' 'U'] Total unique values:  23\n",
      "cat116 : ['LB' 'DP' 'GK' 'DJ' 'CK' 'LO' 'IE' 'LY' 'GS' 'HK' 'DC' 'MP' 'DS' 'LE' 'HQ'\n",
      " 'HJ' 'GC' 'BY' 'HX' 'HL' 'HG' 'MD' 'LF' 'LM' 'CB' 'CS' 'KQ' 'HN' 'LQ' 'KW'\n",
      " 'IT' 'LN' 'CW' 'LC' 'GX' 'GE' 'CP' 'HB' 'GI' 'GM' 'CR' 'JR' 'HA' 'EE' 'BA'\n",
      " 'LJ' 'IH' 'HV' 'GU' 'HM' 'CY' 'IC' 'KD' 'KI' 'DN' 'MG' 'LL' 'KN' 'LH' 'DF'\n",
      " 'EY' 'LW' 'KA' 'EK' 'DK' 'EO' 'CG' 'K' 'HC' 'DI' 'FB' 'IG' 'FR' 'CI' 'EC'\n",
      " 'KR' 'HI' 'IU' 'MC' 'BP' 'JW' 'FH' 'IF' 'E' 'DA' 'KL' 'LX' 'IL' 'KB' 'IQ'\n",
      " 'EL' 'JX' 'H' 'GN' 'CD' 'DH' 'AC' 'FD' 'ME' 'KC' 'FT' 'CT' 'DM' 'GL' 'ES'\n",
      " 'JL' 'BX' 'II' 'HP' 'ED' 'CU' 'EN' 'FG' 'MJ' 'KE' 'CF' 'EB' 'DD' 'EI' 'FX'\n",
      " 'EA' 'BO' 'KP' 'EP' 'FC' 'GB' 'JU' 'LV' 'CO' 'EF' 'BD' 'HW' 'LI' 'GT' 'HH'\n",
      " 'KJ' 'CN' 'B' 'FE' 'GA' 'FW' 'IY' 'MO' 'JG' 'ID' 'DX' 'FA' 'LA' 'HR' 'GJ'\n",
      " 'GO' 'KT' 'GW' 'U' 'MI' 'GP' 'F' 'DU' 'KM' 'BV' 'DT' 'IM' 'LD' 'GR' 'HD'\n",
      " 'BS' 'AJ' 'KX' 'LR' 'ML' 'KU' 'CE' 'IA' 'DE' 'R' 'AO' 'MU' 'AK' 'CX' 'HY'\n",
      " 'EH' 'MA' 'GH' 'LK' 'DL' 'AX' 'IN' 'BI' 'JM' 'JF' 'KK' 'DR' 'LT' 'GF' 'AW'\n",
      " 'KY' 'CA' 'MK' 'DV' 'EG' 'DW' 'MN' 'V' 'CM' 'GY' 'AF' 'JC' 'MR' 'JE' 'IP'\n",
      " 'KV' 'KH' 'BW' 'MQ' 'D' 'HF' 'CV' 'BL' 'FL' 'GV' 'CQ' 'BM' 'JB' 'J' 'FU'\n",
      " 'AG' 'EJ' 'CH' 'MW' 'X' 'DG' 'AV' 'EW' 'O' 'DO' 'BK' 'FS' 'T' 'CL' 'Y'\n",
      " 'JQ' 'I' 'AL' 'JJ' 'HT' 'FF' 'JA' 'GD' 'FV' 'BQ' 'M' 'S' 'EU' 'P' 'FJ'\n",
      " 'AR' 'LG' 'IR' 'GQ' 'MM' 'AY' 'MF' 'GG' 'KG' 'JD' 'L' 'KS' 'AH' 'JV' 'EV'\n",
      " 'CC' 'AB' 'FK' 'JY' 'G' 'W' 'BC' 'AM' 'KF' 'LU' 'IK' 'BU' 'AT' 'JP' 'Q'\n",
      " 'IJ' 'JO' 'JH' 'AS' 'JN' 'BF' 'AD' 'FP' 'MV' 'AA' 'CJ' 'DY' 'IB' 'AN' 'EQ'\n",
      " 'JT' 'BG' 'AP' 'MB' 'JK' 'FI' 'MS' 'HE' 'C' 'IV' 'IO' 'BT' 'DQ' 'FM' 'HO'\n",
      " 'MH' 'MT' 'FO' 'JI' 'FQ' 'AU' 'FN' 'BB' 'HU' 'IX' 'AE'] Total unique values:  326\n"
     ]
    }
   ],
   "source": [
    "#Find unique values\n",
    "cat_names = list(train)\n",
    "for name in cat_names :\n",
    "    if name.find(\"cat\") != -1 :\n",
    "        print(name, \":\", train[name].unique(), \"Total unique values: \", len(train[name].unique()))"
   ]
  },
  {
   "cell_type": "markdown",
   "metadata": {},
   "source": [
    "From this analysis we can speculate:\n",
    "\n",
    "* columns \"cat1\" through \"cat72\" might be True/False or Yes/No\n",
    "\n",
    "* columns \"cat73\" through \"cat76\" might be Low/Medium/High values, such as income class or the like with 3 categories\n",
    "\n",
    "* columns \"cat77\" through \"cat88\" also seem to be category-based, with 4 categories each\n",
    "\n",
    "* specifically for column 112, it may represent states as there is 51 unique values."
   ]
  },
  {
   "cell_type": "markdown",
   "metadata": {},
   "source": [
    "Now, let's also check some statistics about quantitative variables."
   ]
  },
  {
   "cell_type": "code",
   "execution_count": 4,
   "metadata": {
    "collapsed": false
   },
   "outputs": [
    {
     "data": {
      "text/html": [
       "<div>\n",
       "<table border=\"1\" class=\"dataframe\">\n",
       "  <thead>\n",
       "    <tr style=\"text-align: right;\">\n",
       "      <th></th>\n",
       "      <th>id</th>\n",
       "      <th>cont1</th>\n",
       "      <th>cont2</th>\n",
       "      <th>cont3</th>\n",
       "      <th>cont4</th>\n",
       "      <th>cont5</th>\n",
       "      <th>cont6</th>\n",
       "      <th>cont7</th>\n",
       "      <th>cont8</th>\n",
       "      <th>cont9</th>\n",
       "      <th>cont10</th>\n",
       "      <th>cont11</th>\n",
       "      <th>cont12</th>\n",
       "      <th>cont13</th>\n",
       "      <th>cont14</th>\n",
       "      <th>loss</th>\n",
       "    </tr>\n",
       "  </thead>\n",
       "  <tbody>\n",
       "    <tr>\n",
       "      <th>count</th>\n",
       "      <td>188318.000000</td>\n",
       "      <td>188318.000000</td>\n",
       "      <td>188318.000000</td>\n",
       "      <td>188318.000000</td>\n",
       "      <td>188318.000000</td>\n",
       "      <td>188318.000000</td>\n",
       "      <td>188318.000000</td>\n",
       "      <td>188318.000000</td>\n",
       "      <td>188318.000000</td>\n",
       "      <td>188318.000000</td>\n",
       "      <td>188318.000000</td>\n",
       "      <td>188318.000000</td>\n",
       "      <td>188318.000000</td>\n",
       "      <td>188318.000000</td>\n",
       "      <td>188318.000000</td>\n",
       "      <td>188318.000000</td>\n",
       "    </tr>\n",
       "    <tr>\n",
       "      <th>mean</th>\n",
       "      <td>294135.982561</td>\n",
       "      <td>0.493861</td>\n",
       "      <td>0.507188</td>\n",
       "      <td>0.498918</td>\n",
       "      <td>0.491812</td>\n",
       "      <td>0.487428</td>\n",
       "      <td>0.490945</td>\n",
       "      <td>0.484970</td>\n",
       "      <td>0.486437</td>\n",
       "      <td>0.485506</td>\n",
       "      <td>0.498066</td>\n",
       "      <td>0.493511</td>\n",
       "      <td>0.493150</td>\n",
       "      <td>0.493138</td>\n",
       "      <td>0.495717</td>\n",
       "      <td>3037.337686</td>\n",
       "    </tr>\n",
       "    <tr>\n",
       "      <th>std</th>\n",
       "      <td>169336.084867</td>\n",
       "      <td>0.187640</td>\n",
       "      <td>0.207202</td>\n",
       "      <td>0.202105</td>\n",
       "      <td>0.211292</td>\n",
       "      <td>0.209027</td>\n",
       "      <td>0.205273</td>\n",
       "      <td>0.178450</td>\n",
       "      <td>0.199370</td>\n",
       "      <td>0.181660</td>\n",
       "      <td>0.185877</td>\n",
       "      <td>0.209737</td>\n",
       "      <td>0.209427</td>\n",
       "      <td>0.212777</td>\n",
       "      <td>0.222488</td>\n",
       "      <td>2904.086186</td>\n",
       "    </tr>\n",
       "    <tr>\n",
       "      <th>min</th>\n",
       "      <td>1.000000</td>\n",
       "      <td>0.000016</td>\n",
       "      <td>0.001149</td>\n",
       "      <td>0.002634</td>\n",
       "      <td>0.176921</td>\n",
       "      <td>0.281143</td>\n",
       "      <td>0.012683</td>\n",
       "      <td>0.069503</td>\n",
       "      <td>0.236880</td>\n",
       "      <td>0.000080</td>\n",
       "      <td>0.000000</td>\n",
       "      <td>0.035321</td>\n",
       "      <td>0.036232</td>\n",
       "      <td>0.000228</td>\n",
       "      <td>0.179722</td>\n",
       "      <td>0.670000</td>\n",
       "    </tr>\n",
       "    <tr>\n",
       "      <th>25%</th>\n",
       "      <td>147748.250000</td>\n",
       "      <td>0.346090</td>\n",
       "      <td>0.358319</td>\n",
       "      <td>0.336963</td>\n",
       "      <td>0.327354</td>\n",
       "      <td>0.281143</td>\n",
       "      <td>0.336105</td>\n",
       "      <td>0.350175</td>\n",
       "      <td>0.312800</td>\n",
       "      <td>0.358970</td>\n",
       "      <td>0.364580</td>\n",
       "      <td>0.310961</td>\n",
       "      <td>0.311661</td>\n",
       "      <td>0.315758</td>\n",
       "      <td>0.294610</td>\n",
       "      <td>1204.460000</td>\n",
       "    </tr>\n",
       "    <tr>\n",
       "      <th>50%</th>\n",
       "      <td>294539.500000</td>\n",
       "      <td>0.475784</td>\n",
       "      <td>0.555782</td>\n",
       "      <td>0.527991</td>\n",
       "      <td>0.452887</td>\n",
       "      <td>0.422268</td>\n",
       "      <td>0.440945</td>\n",
       "      <td>0.438285</td>\n",
       "      <td>0.441060</td>\n",
       "      <td>0.441450</td>\n",
       "      <td>0.461190</td>\n",
       "      <td>0.457203</td>\n",
       "      <td>0.462286</td>\n",
       "      <td>0.363547</td>\n",
       "      <td>0.407403</td>\n",
       "      <td>2115.570000</td>\n",
       "    </tr>\n",
       "    <tr>\n",
       "      <th>75%</th>\n",
       "      <td>440680.500000</td>\n",
       "      <td>0.623912</td>\n",
       "      <td>0.681761</td>\n",
       "      <td>0.634224</td>\n",
       "      <td>0.652072</td>\n",
       "      <td>0.643315</td>\n",
       "      <td>0.655021</td>\n",
       "      <td>0.591045</td>\n",
       "      <td>0.623580</td>\n",
       "      <td>0.566820</td>\n",
       "      <td>0.614590</td>\n",
       "      <td>0.678924</td>\n",
       "      <td>0.675759</td>\n",
       "      <td>0.689974</td>\n",
       "      <td>0.724623</td>\n",
       "      <td>3864.045000</td>\n",
       "    </tr>\n",
       "    <tr>\n",
       "      <th>max</th>\n",
       "      <td>587633.000000</td>\n",
       "      <td>0.984975</td>\n",
       "      <td>0.862654</td>\n",
       "      <td>0.944251</td>\n",
       "      <td>0.954297</td>\n",
       "      <td>0.983674</td>\n",
       "      <td>0.997162</td>\n",
       "      <td>1.000000</td>\n",
       "      <td>0.980200</td>\n",
       "      <td>0.995400</td>\n",
       "      <td>0.994980</td>\n",
       "      <td>0.998742</td>\n",
       "      <td>0.998484</td>\n",
       "      <td>0.988494</td>\n",
       "      <td>0.844848</td>\n",
       "      <td>121012.250000</td>\n",
       "    </tr>\n",
       "  </tbody>\n",
       "</table>\n",
       "</div>"
      ],
      "text/plain": [
       "                  id          cont1          cont2          cont3  \\\n",
       "count  188318.000000  188318.000000  188318.000000  188318.000000   \n",
       "mean   294135.982561       0.493861       0.507188       0.498918   \n",
       "std    169336.084867       0.187640       0.207202       0.202105   \n",
       "min         1.000000       0.000016       0.001149       0.002634   \n",
       "25%    147748.250000       0.346090       0.358319       0.336963   \n",
       "50%    294539.500000       0.475784       0.555782       0.527991   \n",
       "75%    440680.500000       0.623912       0.681761       0.634224   \n",
       "max    587633.000000       0.984975       0.862654       0.944251   \n",
       "\n",
       "               cont4          cont5          cont6          cont7  \\\n",
       "count  188318.000000  188318.000000  188318.000000  188318.000000   \n",
       "mean        0.491812       0.487428       0.490945       0.484970   \n",
       "std         0.211292       0.209027       0.205273       0.178450   \n",
       "min         0.176921       0.281143       0.012683       0.069503   \n",
       "25%         0.327354       0.281143       0.336105       0.350175   \n",
       "50%         0.452887       0.422268       0.440945       0.438285   \n",
       "75%         0.652072       0.643315       0.655021       0.591045   \n",
       "max         0.954297       0.983674       0.997162       1.000000   \n",
       "\n",
       "               cont8          cont9         cont10         cont11  \\\n",
       "count  188318.000000  188318.000000  188318.000000  188318.000000   \n",
       "mean        0.486437       0.485506       0.498066       0.493511   \n",
       "std         0.199370       0.181660       0.185877       0.209737   \n",
       "min         0.236880       0.000080       0.000000       0.035321   \n",
       "25%         0.312800       0.358970       0.364580       0.310961   \n",
       "50%         0.441060       0.441450       0.461190       0.457203   \n",
       "75%         0.623580       0.566820       0.614590       0.678924   \n",
       "max         0.980200       0.995400       0.994980       0.998742   \n",
       "\n",
       "              cont12         cont13         cont14           loss  \n",
       "count  188318.000000  188318.000000  188318.000000  188318.000000  \n",
       "mean        0.493150       0.493138       0.495717    3037.337686  \n",
       "std         0.209427       0.212777       0.222488    2904.086186  \n",
       "min         0.036232       0.000228       0.179722       0.670000  \n",
       "25%         0.311661       0.315758       0.294610    1204.460000  \n",
       "50%         0.462286       0.363547       0.407403    2115.570000  \n",
       "75%         0.675759       0.689974       0.724623    3864.045000  \n",
       "max         0.998484       0.988494       0.844848  121012.250000  "
      ]
     },
     "execution_count": 4,
     "metadata": {},
     "output_type": "execute_result"
    }
   ],
   "source": [
    "#Basic Statistics\n",
    "train.describe()"
   ]
  },
  {
   "cell_type": "code",
   "execution_count": 5,
   "metadata": {
    "collapsed": false
   },
   "outputs": [
    {
     "data": {
      "text/plain": [
       "id       -0.002155\n",
       "cont1     0.516424\n",
       "cont2    -0.310941\n",
       "cont3    -0.010002\n",
       "cont4     0.416096\n",
       "cont5     0.681622\n",
       "cont6     0.461214\n",
       "cont7     0.826053\n",
       "cont8     0.676634\n",
       "cont9     1.072429\n",
       "cont10    0.355001\n",
       "cont11    0.280821\n",
       "cont12    0.291992\n",
       "cont13    0.380742\n",
       "cont14    0.248674\n",
       "loss      3.794958\n",
       "dtype: float64"
      ]
     },
     "execution_count": 5,
     "metadata": {},
     "output_type": "execute_result"
    }
   ],
   "source": [
    "#Skewness of Continuous Variables\n",
    "train.skew()"
   ]
  },
  {
   "cell_type": "markdown",
   "metadata": {},
   "source": [
    "We can clearly see there is high skew factor in loss - let's check what the histogram of it looks like."
   ]
  },
  {
   "cell_type": "code",
   "execution_count": 6,
   "metadata": {
    "collapsed": false
   },
   "outputs": [
    {
     "data": {
      "text/plain": [
       "<matplotlib.axes._subplots.AxesSubplot at 0x118664898>"
      ]
     },
     "execution_count": 6,
     "metadata": {},
     "output_type": "execute_result"
    },
    {
     "data": {
      "image/png": "[encoded data removed]",
      "text/plain": [
       "<matplotlib.figure.Figure at 0x1191cdda0>"
      ]
     },
     "metadata": {},
     "output_type": "display_data"
    }
   ],
   "source": [
    "# histogram of loss\n",
    "train['loss'].hist(bins=1000)"
   ]
  },
  {
   "cell_type": "code",
   "execution_count": 7,
   "metadata": {
    "collapsed": false
   },
   "outputs": [
    {
     "data": {
      "text/plain": [
       "<matplotlib.axes._subplots.AxesSubplot at 0x120b71160>"
      ]
     },
     "execution_count": 7,
     "metadata": {},
     "output_type": "execute_result"
    },
    {
     "data": {
      "image/png": "[encoded data removed]",
      "text/plain": [
       "<matplotlib.figure.Figure at 0x119273588>"
      ]
     },
     "metadata": {},
     "output_type": "display_data"
    }
   ],
   "source": [
    "# looks not very normal. let's log(1+x) it\n",
    "np.log1p(train['loss']).hist(bins=1000)"
   ]
  },
  {
   "cell_type": "code",
   "execution_count": 28,
   "metadata": {
    "collapsed": false
   },
   "outputs": [
    {
     "data": {
      "text/plain": [
       "<matplotlib.axes._subplots.AxesSubplot at 0x11fb25b38>"
      ]
     },
     "execution_count": 28,
     "metadata": {},
     "output_type": "execute_result"
    },
    {
     "data": {
      "image/png": "[encoded data removed]",
      "text/plain": [
       "<matplotlib.figure.Figure at 0x112948588>"
      ]
     },
     "metadata": {},
     "output_type": "display_data"
    }
   ],
   "source": [
    "#How about cont9, the highest-skewed feature?\n",
    "train['cont9'].hist(bins=100)"
   ]
  },
  {
   "cell_type": "code",
   "execution_count": 29,
   "metadata": {
    "collapsed": false
   },
   "outputs": [
    {
     "data": {
      "text/plain": [
       "<matplotlib.axes._subplots.AxesSubplot at 0x1252c39b0>"
      ]
     },
     "execution_count": 29,
     "metadata": {},
     "output_type": "execute_result"
    },
    {
     "data": {
      "image/png": "[encoded data removed]",
      "text/plain": [
       "<matplotlib.figure.Figure at 0x124c8b710>"
      ]
     },
     "metadata": {},
     "output_type": "display_data"
    }
   ],
   "source": [
    "#Try long(1+x) to see if there is major improvements?\n",
    "np.log1p(train['cont9']).hist(bins=100)"
   ]
  },
  {
   "cell_type": "markdown",
   "metadata": {},
   "source": [
    "Skew of the loss function was much improved through log(1+x)'ing it, but not cont9, the highest-skewed feature. So for now let's keep in mind to log(1+x) the loss variable (our response variable)."
   ]
  },
  {
   "cell_type": "markdown",
   "metadata": {},
   "source": [
    "## FEATURE ENGINEERING"
   ]
  },
  {
   "cell_type": "markdown",
   "metadata": {},
   "source": [
    "First, let's do the simple things: Unskew loss:"
   ]
  },
  {
   "cell_type": "code",
   "execution_count": 4,
   "metadata": {
    "collapsed": true
   },
   "outputs": [],
   "source": [
    "train['loss'] = np.log1p(train['loss'])"
   ]
  },
  {
   "cell_type": "markdown",
   "metadata": {},
   "source": [
    "Now, let us fill in the missing variables in continuous variables, with their means."
   ]
  },
  {
   "cell_type": "code",
   "execution_count": 5,
   "metadata": {
    "collapsed": false
   },
   "outputs": [
    {
     "data": {
      "text/plain": [
       "False"
      ]
     },
     "execution_count": 5,
     "metadata": {},
     "output_type": "execute_result"
    }
   ],
   "source": [
    "#Just checking: Are any values missing?\n",
    "train.isnull().values.any()"
   ]
  },
  {
   "cell_type": "markdown",
   "metadata": {},
   "source": [
    "Since no values are missing, no need to fill in NAN's with means."
   ]
  },
  {
   "cell_type": "code",
   "execution_count": 15,
   "metadata": {
    "collapsed": true
   },
   "outputs": [],
   "source": [
    "#No values missing, no need to do this:\n",
    "#train = train.fillna(train.mean())"
   ]
  },
  {
   "cell_type": "markdown",
   "metadata": {},
   "source": [
    "Let's see which variables are correlated/unnecessary variables and drop them:"
   ]
  },
  {
   "cell_type": "code",
   "execution_count": 44,
   "metadata": {
    "collapsed": false
   },
   "outputs": [
    {
     "data": {
      "text/plain": [
       "['cont1',\n",
       " 'cont2',\n",
       " 'cont3',\n",
       " 'cont4',\n",
       " 'cont5',\n",
       " 'cont6',\n",
       " 'cont7',\n",
       " 'cont8',\n",
       " 'cont9',\n",
       " 'cont10',\n",
       " 'cont11',\n",
       " 'cont12',\n",
       " 'cont13',\n",
       " 'cont14',\n",
       " 'loss']"
      ]
     },
     "execution_count": 44,
     "metadata": {},
     "output_type": "execute_result"
    }
   ],
   "source": [
    "#First only getting continuous variable columns\n",
    "cont_columns = []\n",
    "\n",
    "for i in train.columns:\n",
    "    if train[i].dtype == 'float':\n",
    "        cont_columns.append(i)\n",
    "cont_columns"
   ]
  },
  {
   "cell_type": "code",
   "execution_count": 11,
   "metadata": {
    "collapsed": false
   },
   "outputs": [
    {
     "data": {
      "text/html": [
       "<div>\n",
       "<table border=\"1\" class=\"dataframe\">\n",
       "  <thead>\n",
       "    <tr style=\"text-align: right;\">\n",
       "      <th></th>\n",
       "      <th>cont1</th>\n",
       "      <th>cont2</th>\n",
       "      <th>cont3</th>\n",
       "      <th>cont4</th>\n",
       "      <th>cont5</th>\n",
       "      <th>cont6</th>\n",
       "      <th>cont7</th>\n",
       "      <th>cont8</th>\n",
       "      <th>cont9</th>\n",
       "      <th>cont10</th>\n",
       "      <th>cont11</th>\n",
       "      <th>cont12</th>\n",
       "      <th>cont13</th>\n",
       "      <th>cont14</th>\n",
       "      <th>loss</th>\n",
       "    </tr>\n",
       "  </thead>\n",
       "  <tbody>\n",
       "    <tr>\n",
       "      <th>cont1</th>\n",
       "      <td>1.000000</td>\n",
       "      <td>-0.085180</td>\n",
       "      <td>-0.445431</td>\n",
       "      <td>0.367549</td>\n",
       "      <td>-0.025230</td>\n",
       "      <td>0.758315</td>\n",
       "      <td>0.367384</td>\n",
       "      <td>0.361163</td>\n",
       "      <td>0.929912</td>\n",
       "      <td>0.808551</td>\n",
       "      <td>0.596090</td>\n",
       "      <td>0.614225</td>\n",
       "      <td>0.534850</td>\n",
       "      <td>0.056688</td>\n",
       "      <td>-0.007335</td>\n",
       "    </tr>\n",
       "    <tr>\n",
       "      <th>cont2</th>\n",
       "      <td>-0.085180</td>\n",
       "      <td>1.000000</td>\n",
       "      <td>0.455861</td>\n",
       "      <td>0.038693</td>\n",
       "      <td>0.191427</td>\n",
       "      <td>0.015864</td>\n",
       "      <td>0.048187</td>\n",
       "      <td>0.137468</td>\n",
       "      <td>-0.032729</td>\n",
       "      <td>0.063526</td>\n",
       "      <td>0.116824</td>\n",
       "      <td>0.106250</td>\n",
       "      <td>0.023335</td>\n",
       "      <td>-0.045584</td>\n",
       "      <td>0.104666</td>\n",
       "    </tr>\n",
       "    <tr>\n",
       "      <th>cont3</th>\n",
       "      <td>-0.445431</td>\n",
       "      <td>0.455861</td>\n",
       "      <td>1.000000</td>\n",
       "      <td>-0.341633</td>\n",
       "      <td>0.089417</td>\n",
       "      <td>-0.349278</td>\n",
       "      <td>0.097516</td>\n",
       "      <td>-0.185432</td>\n",
       "      <td>-0.417054</td>\n",
       "      <td>-0.325562</td>\n",
       "      <td>0.025271</td>\n",
       "      <td>0.006111</td>\n",
       "      <td>-0.418203</td>\n",
       "      <td>-0.039592</td>\n",
       "      <td>0.081548</td>\n",
       "    </tr>\n",
       "    <tr>\n",
       "      <th>cont4</th>\n",
       "      <td>0.367549</td>\n",
       "      <td>0.038693</td>\n",
       "      <td>-0.341633</td>\n",
       "      <td>1.000000</td>\n",
       "      <td>0.163748</td>\n",
       "      <td>0.220932</td>\n",
       "      <td>-0.115064</td>\n",
       "      <td>0.528740</td>\n",
       "      <td>0.328961</td>\n",
       "      <td>0.283294</td>\n",
       "      <td>0.120927</td>\n",
       "      <td>0.130453</td>\n",
       "      <td>0.179342</td>\n",
       "      <td>0.017445</td>\n",
       "      <td>-0.027523</td>\n",
       "    </tr>\n",
       "    <tr>\n",
       "      <th>cont5</th>\n",
       "      <td>-0.025230</td>\n",
       "      <td>0.191427</td>\n",
       "      <td>0.089417</td>\n",
       "      <td>0.163748</td>\n",
       "      <td>1.000000</td>\n",
       "      <td>-0.149810</td>\n",
       "      <td>-0.249344</td>\n",
       "      <td>0.009015</td>\n",
       "      <td>-0.088202</td>\n",
       "      <td>-0.064967</td>\n",
       "      <td>-0.151548</td>\n",
       "      <td>-0.148217</td>\n",
       "      <td>-0.082915</td>\n",
       "      <td>-0.021638</td>\n",
       "      <td>-0.014958</td>\n",
       "    </tr>\n",
       "    <tr>\n",
       "      <th>cont6</th>\n",
       "      <td>0.758315</td>\n",
       "      <td>0.015864</td>\n",
       "      <td>-0.349278</td>\n",
       "      <td>0.220932</td>\n",
       "      <td>-0.149810</td>\n",
       "      <td>1.000000</td>\n",
       "      <td>0.658918</td>\n",
       "      <td>0.437437</td>\n",
       "      <td>0.797544</td>\n",
       "      <td>0.883351</td>\n",
       "      <td>0.773745</td>\n",
       "      <td>0.785144</td>\n",
       "      <td>0.815091</td>\n",
       "      <td>0.042178</td>\n",
       "      <td>0.031517</td>\n",
       "    </tr>\n",
       "    <tr>\n",
       "      <th>cont7</th>\n",
       "      <td>0.367384</td>\n",
       "      <td>0.048187</td>\n",
       "      <td>0.097516</td>\n",
       "      <td>-0.115064</td>\n",
       "      <td>-0.249344</td>\n",
       "      <td>0.658918</td>\n",
       "      <td>1.000000</td>\n",
       "      <td>0.142042</td>\n",
       "      <td>0.384343</td>\n",
       "      <td>0.492621</td>\n",
       "      <td>0.747108</td>\n",
       "      <td>0.742712</td>\n",
       "      <td>0.288395</td>\n",
       "      <td>0.022286</td>\n",
       "      <td>0.085095</td>\n",
       "    </tr>\n",
       "    <tr>\n",
       "      <th>cont8</th>\n",
       "      <td>0.361163</td>\n",
       "      <td>0.137468</td>\n",
       "      <td>-0.185432</td>\n",
       "      <td>0.528740</td>\n",
       "      <td>0.009015</td>\n",
       "      <td>0.437437</td>\n",
       "      <td>0.142042</td>\n",
       "      <td>1.000000</td>\n",
       "      <td>0.452658</td>\n",
       "      <td>0.336588</td>\n",
       "      <td>0.302381</td>\n",
       "      <td>0.315904</td>\n",
       "      <td>0.476402</td>\n",
       "      <td>0.043539</td>\n",
       "      <td>0.032042</td>\n",
       "    </tr>\n",
       "    <tr>\n",
       "      <th>cont9</th>\n",
       "      <td>0.929912</td>\n",
       "      <td>-0.032729</td>\n",
       "      <td>-0.417054</td>\n",
       "      <td>0.328961</td>\n",
       "      <td>-0.088202</td>\n",
       "      <td>0.797544</td>\n",
       "      <td>0.384343</td>\n",
       "      <td>0.452658</td>\n",
       "      <td>1.000000</td>\n",
       "      <td>0.785697</td>\n",
       "      <td>0.608000</td>\n",
       "      <td>0.626656</td>\n",
       "      <td>0.642028</td>\n",
       "      <td>0.074154</td>\n",
       "      <td>0.017417</td>\n",
       "    </tr>\n",
       "    <tr>\n",
       "      <th>cont10</th>\n",
       "      <td>0.808551</td>\n",
       "      <td>0.063526</td>\n",
       "      <td>-0.325562</td>\n",
       "      <td>0.283294</td>\n",
       "      <td>-0.064967</td>\n",
       "      <td>0.883351</td>\n",
       "      <td>0.492621</td>\n",
       "      <td>0.336588</td>\n",
       "      <td>0.785697</td>\n",
       "      <td>1.000000</td>\n",
       "      <td>0.702896</td>\n",
       "      <td>0.713812</td>\n",
       "      <td>0.707876</td>\n",
       "      <td>0.041808</td>\n",
       "      <td>0.010604</td>\n",
       "    </tr>\n",
       "    <tr>\n",
       "      <th>cont11</th>\n",
       "      <td>0.596090</td>\n",
       "      <td>0.116824</td>\n",
       "      <td>0.025271</td>\n",
       "      <td>0.120927</td>\n",
       "      <td>-0.151548</td>\n",
       "      <td>0.773745</td>\n",
       "      <td>0.747108</td>\n",
       "      <td>0.302381</td>\n",
       "      <td>0.608000</td>\n",
       "      <td>0.702896</td>\n",
       "      <td>1.000000</td>\n",
       "      <td>0.994384</td>\n",
       "      <td>0.466247</td>\n",
       "      <td>0.047293</td>\n",
       "      <td>0.072760</td>\n",
       "    </tr>\n",
       "    <tr>\n",
       "      <th>cont12</th>\n",
       "      <td>0.614225</td>\n",
       "      <td>0.106250</td>\n",
       "      <td>0.006111</td>\n",
       "      <td>0.130453</td>\n",
       "      <td>-0.148217</td>\n",
       "      <td>0.785144</td>\n",
       "      <td>0.742712</td>\n",
       "      <td>0.315904</td>\n",
       "      <td>0.626656</td>\n",
       "      <td>0.713812</td>\n",
       "      <td>0.994384</td>\n",
       "      <td>1.000000</td>\n",
       "      <td>0.478677</td>\n",
       "      <td>0.050267</td>\n",
       "      <td>0.072266</td>\n",
       "    </tr>\n",
       "    <tr>\n",
       "      <th>cont13</th>\n",
       "      <td>0.534850</td>\n",
       "      <td>0.023335</td>\n",
       "      <td>-0.418203</td>\n",
       "      <td>0.179342</td>\n",
       "      <td>-0.082915</td>\n",
       "      <td>0.815091</td>\n",
       "      <td>0.288395</td>\n",
       "      <td>0.476402</td>\n",
       "      <td>0.642028</td>\n",
       "      <td>0.707876</td>\n",
       "      <td>0.466247</td>\n",
       "      <td>0.478677</td>\n",
       "      <td>1.000000</td>\n",
       "      <td>0.047543</td>\n",
       "      <td>0.003276</td>\n",
       "    </tr>\n",
       "    <tr>\n",
       "      <th>cont14</th>\n",
       "      <td>0.056688</td>\n",
       "      <td>-0.045584</td>\n",
       "      <td>-0.039592</td>\n",
       "      <td>0.017445</td>\n",
       "      <td>-0.021638</td>\n",
       "      <td>0.042178</td>\n",
       "      <td>0.022286</td>\n",
       "      <td>0.043539</td>\n",
       "      <td>0.074154</td>\n",
       "      <td>0.041808</td>\n",
       "      <td>0.047293</td>\n",
       "      <td>0.050267</td>\n",
       "      <td>0.047543</td>\n",
       "      <td>1.000000</td>\n",
       "      <td>0.025948</td>\n",
       "    </tr>\n",
       "    <tr>\n",
       "      <th>loss</th>\n",
       "      <td>-0.007335</td>\n",
       "      <td>0.104666</td>\n",
       "      <td>0.081548</td>\n",
       "      <td>-0.027523</td>\n",
       "      <td>-0.014958</td>\n",
       "      <td>0.031517</td>\n",
       "      <td>0.085095</td>\n",
       "      <td>0.032042</td>\n",
       "      <td>0.017417</td>\n",
       "      <td>0.010604</td>\n",
       "      <td>0.072760</td>\n",
       "      <td>0.072266</td>\n",
       "      <td>0.003276</td>\n",
       "      <td>0.025948</td>\n",
       "      <td>1.000000</td>\n",
       "    </tr>\n",
       "  </tbody>\n",
       "</table>\n",
       "</div>"
      ],
      "text/plain": [
       "           cont1     cont2     cont3     cont4     cont5     cont6     cont7  \\\n",
       "cont1   1.000000 -0.085180 -0.445431  0.367549 -0.025230  0.758315  0.367384   \n",
       "cont2  -0.085180  1.000000  0.455861  0.038693  0.191427  0.015864  0.048187   \n",
       "cont3  -0.445431  0.455861  1.000000 -0.341633  0.089417 -0.349278  0.097516   \n",
       "cont4   0.367549  0.038693 -0.341633  1.000000  0.163748  0.220932 -0.115064   \n",
       "cont5  -0.025230  0.191427  0.089417  0.163748  1.000000 -0.149810 -0.249344   \n",
       "cont6   0.758315  0.015864 -0.349278  0.220932 -0.149810  1.000000  0.658918   \n",
       "cont7   0.367384  0.048187  0.097516 -0.115064 -0.249344  0.658918  1.000000   \n",
       "cont8   0.361163  0.137468 -0.185432  0.528740  0.009015  0.437437  0.142042   \n",
       "cont9   0.929912 -0.032729 -0.417054  0.328961 -0.088202  0.797544  0.384343   \n",
       "cont10  0.808551  0.063526 -0.325562  0.283294 -0.064967  0.883351  0.492621   \n",
       "cont11  0.596090  0.116824  0.025271  0.120927 -0.151548  0.773745  0.747108   \n",
       "cont12  0.614225  0.106250  0.006111  0.130453 -0.148217  0.785144  0.742712   \n",
       "cont13  0.534850  0.023335 -0.418203  0.179342 -0.082915  0.815091  0.288395   \n",
       "cont14  0.056688 -0.045584 -0.039592  0.017445 -0.021638  0.042178  0.022286   \n",
       "loss   -0.007335  0.104666  0.081548 -0.027523 -0.014958  0.031517  0.085095   \n",
       "\n",
       "           cont8     cont9    cont10    cont11    cont12    cont13    cont14  \\\n",
       "cont1   0.361163  0.929912  0.808551  0.596090  0.614225  0.534850  0.056688   \n",
       "cont2   0.137468 -0.032729  0.063526  0.116824  0.106250  0.023335 -0.045584   \n",
       "cont3  -0.185432 -0.417054 -0.325562  0.025271  0.006111 -0.418203 -0.039592   \n",
       "cont4   0.528740  0.328961  0.283294  0.120927  0.130453  0.179342  0.017445   \n",
       "cont5   0.009015 -0.088202 -0.064967 -0.151548 -0.148217 -0.082915 -0.021638   \n",
       "cont6   0.437437  0.797544  0.883351  0.773745  0.785144  0.815091  0.042178   \n",
       "cont7   0.142042  0.384343  0.492621  0.747108  0.742712  0.288395  0.022286   \n",
       "cont8   1.000000  0.452658  0.336588  0.302381  0.315904  0.476402  0.043539   \n",
       "cont9   0.452658  1.000000  0.785697  0.608000  0.626656  0.642028  0.074154   \n",
       "cont10  0.336588  0.785697  1.000000  0.702896  0.713812  0.707876  0.041808   \n",
       "cont11  0.302381  0.608000  0.702896  1.000000  0.994384  0.466247  0.047293   \n",
       "cont12  0.315904  0.626656  0.713812  0.994384  1.000000  0.478677  0.050267   \n",
       "cont13  0.476402  0.642028  0.707876  0.466247  0.478677  1.000000  0.047543   \n",
       "cont14  0.043539  0.074154  0.041808  0.047293  0.050267  0.047543  1.000000   \n",
       "loss    0.032042  0.017417  0.010604  0.072760  0.072266  0.003276  0.025948   \n",
       "\n",
       "            loss  \n",
       "cont1  -0.007335  \n",
       "cont2   0.104666  \n",
       "cont3   0.081548  \n",
       "cont4  -0.027523  \n",
       "cont5  -0.014958  \n",
       "cont6   0.031517  \n",
       "cont7   0.085095  \n",
       "cont8   0.032042  \n",
       "cont9   0.017417  \n",
       "cont10  0.010604  \n",
       "cont11  0.072760  \n",
       "cont12  0.072266  \n",
       "cont13  0.003276  \n",
       "cont14  0.025948  \n",
       "loss    1.000000  "
      ]
     },
     "execution_count": 11,
     "metadata": {},
     "output_type": "execute_result"
    }
   ],
   "source": [
    "train.loc[:, cont_columns].corr()"
   ]
  },
  {
   "cell_type": "markdown",
   "metadata": {},
   "source": [
    "Correlated Variables:\n",
    "* cont1/cont9\n",
    "* cont1/cont10\n",
    "* cont6 with a lot of variables, just remove\n",
    "* cont7 with cont11/12\n",
    "* cont9 with cont10\n",
    "* cont10 with a lotta variables\n",
    "* cont 11 with cont12\n",
    "* cont6 with cont13"
   ]
  },
  {
   "cell_type": "code",
   "execution_count": 6,
   "metadata": {
    "collapsed": false,
    "scrolled": true
   },
   "outputs": [
    {
     "data": {
      "text/plain": [
       "<matplotlib.axes._subplots.AxesSubplot at 0x293ab2554a8>"
      ]
     },
     "execution_count": 6,
     "metadata": {},
     "output_type": "execute_result"
    },
    {
     "data": {
      "image/png": "[encoded data removed]",
      "text/plain": [
       "<matplotlib.figure.Figure at 0x293ab1b0048>"
      ]
     },
     "metadata": {},
     "output_type": "display_data"
    }
   ],
   "source": [
    "#This code was taken and modified from Kaggle user \"denoiser\"'s kernel \"Simple EDA - feature transformations\"\n",
    "\n",
    "# Compute the correlation matrix\n",
    "corr = train[cont_columns].corr()\n",
    "\n",
    "sns.set(style=\"white\")\n",
    "\n",
    "# Set up the matplotlib figure\n",
    "f, ax = plt.subplots(figsize=(11, 9))\n",
    "\n",
    "# Generate a custom diverging colormap\n",
    "cmap = sns.diverging_palette(220, 10, as_cmap=True)\n",
    "\n",
    "# Generate a mask for the upper triangle\n",
    "mask = np.zeros_like(corr, dtype=np.bool)\n",
    "mask[np.triu_indices_from(mask)] = True\n",
    "\n",
    "# Draw the heatmap with the mask and correct aspect ratio\n",
    "sns.heatmap(corr, mask=mask, cmap=cmap, vmax=.3,\n",
    "            square=True, linewidths=.5, cbar_kws={\"shrink\": .5}, ax=ax)"
   ]
  },
  {
   "cell_type": "markdown",
   "metadata": {},
   "source": [
    "By the looks of the previous two analyses, the most uncorrelated 'cont' variables that would serve as better predictors are: \n",
    "\n",
    "* cont2, cont3, cont4, cont5, and cont14 "
   ]
  },
  {
   "cell_type": "code",
   "execution_count": 7,
   "metadata": {
    "collapsed": false
   },
   "outputs": [],
   "source": [
    "#Knock out the overly correlated columns\n",
    "unwanted_list = ['id', 'cont1','cont6','cont7','cont8','cont9','cont10', 'cont11','cont12','cont13']\n",
    "train.drop(unwanted_list, axis = 1, inplace = True)"
   ]
  },
  {
   "cell_type": "code",
   "execution_count": 8,
   "metadata": {
    "collapsed": false,
    "scrolled": true
   },
   "outputs": [
    {
     "data": {
      "text/html": [
       "<div>\n",
       "<table border=\"1\" class=\"dataframe\">\n",
       "  <thead>\n",
       "    <tr style=\"text-align: right;\">\n",
       "      <th></th>\n",
       "      <th>id</th>\n",
       "      <th>cat1</th>\n",
       "      <th>cat2</th>\n",
       "      <th>cat3</th>\n",
       "      <th>cat4</th>\n",
       "      <th>cat5</th>\n",
       "      <th>cat6</th>\n",
       "      <th>cat7</th>\n",
       "      <th>cat8</th>\n",
       "      <th>cat9</th>\n",
       "      <th>...</th>\n",
       "      <th>cat113</th>\n",
       "      <th>cat114</th>\n",
       "      <th>cat115</th>\n",
       "      <th>cat116</th>\n",
       "      <th>cont2</th>\n",
       "      <th>cont3</th>\n",
       "      <th>cont4</th>\n",
       "      <th>cont5</th>\n",
       "      <th>cont14</th>\n",
       "      <th>loss</th>\n",
       "    </tr>\n",
       "  </thead>\n",
       "  <tbody>\n",
       "    <tr>\n",
       "      <th>0</th>\n",
       "      <td>1</td>\n",
       "      <td>A</td>\n",
       "      <td>B</td>\n",
       "      <td>A</td>\n",
       "      <td>B</td>\n",
       "      <td>A</td>\n",
       "      <td>A</td>\n",
       "      <td>A</td>\n",
       "      <td>A</td>\n",
       "      <td>B</td>\n",
       "      <td>...</td>\n",
       "      <td>S</td>\n",
       "      <td>A</td>\n",
       "      <td>O</td>\n",
       "      <td>LB</td>\n",
       "      <td>0.245921</td>\n",
       "      <td>0.187583</td>\n",
       "      <td>0.789639</td>\n",
       "      <td>0.310061</td>\n",
       "      <td>0.714843</td>\n",
       "      <td>7.702637</td>\n",
       "    </tr>\n",
       "    <tr>\n",
       "      <th>1</th>\n",
       "      <td>2</td>\n",
       "      <td>A</td>\n",
       "      <td>B</td>\n",
       "      <td>A</td>\n",
       "      <td>A</td>\n",
       "      <td>A</td>\n",
       "      <td>A</td>\n",
       "      <td>A</td>\n",
       "      <td>A</td>\n",
       "      <td>B</td>\n",
       "      <td>...</td>\n",
       "      <td>BM</td>\n",
       "      <td>A</td>\n",
       "      <td>O</td>\n",
       "      <td>DP</td>\n",
       "      <td>0.737068</td>\n",
       "      <td>0.592681</td>\n",
       "      <td>0.614134</td>\n",
       "      <td>0.885834</td>\n",
       "      <td>0.304496</td>\n",
       "      <td>7.158203</td>\n",
       "    </tr>\n",
       "    <tr>\n",
       "      <th>2</th>\n",
       "      <td>5</td>\n",
       "      <td>A</td>\n",
       "      <td>B</td>\n",
       "      <td>A</td>\n",
       "      <td>A</td>\n",
       "      <td>B</td>\n",
       "      <td>A</td>\n",
       "      <td>A</td>\n",
       "      <td>A</td>\n",
       "      <td>B</td>\n",
       "      <td>...</td>\n",
       "      <td>AF</td>\n",
       "      <td>A</td>\n",
       "      <td>I</td>\n",
       "      <td>GK</td>\n",
       "      <td>0.358319</td>\n",
       "      <td>0.484196</td>\n",
       "      <td>0.236924</td>\n",
       "      <td>0.397069</td>\n",
       "      <td>0.774425</td>\n",
       "      <td>8.008396</td>\n",
       "    </tr>\n",
       "  </tbody>\n",
       "</table>\n",
       "<p>3 rows × 123 columns</p>\n",
       "</div>"
      ],
      "text/plain": [
       "   id cat1 cat2 cat3 cat4 cat5 cat6 cat7 cat8 cat9    ...    cat113 cat114  \\\n",
       "0   1    A    B    A    B    A    A    A    A    B    ...         S      A   \n",
       "1   2    A    B    A    A    A    A    A    A    B    ...        BM      A   \n",
       "2   5    A    B    A    A    B    A    A    A    B    ...        AF      A   \n",
       "\n",
       "  cat115 cat116     cont2     cont3     cont4     cont5    cont14      loss  \n",
       "0      O     LB  0.245921  0.187583  0.789639  0.310061  0.714843  7.702637  \n",
       "1      O     DP  0.737068  0.592681  0.614134  0.885834  0.304496  7.158203  \n",
       "2      I     GK  0.358319  0.484196  0.236924  0.397069  0.774425  8.008396  \n",
       "\n",
       "[3 rows x 123 columns]"
      ]
     },
     "execution_count": 8,
     "metadata": {},
     "output_type": "execute_result"
    }
   ],
   "source": [
    "#For some reason the above code produces an error, but the action is done here anyways, \n",
    "#as verified by taking a peek at the new training dataset\n",
    "train.head(3)"
   ]
  },
  {
   "cell_type": "markdown",
   "metadata": {},
   "source": [
    "We took a look at the recommended transformations on categorical variables given in the kernel \"Simple EDA - feature transformations\"by user 'denoiser', and applied these transformations on the training set in the cont categories that we kept."
   ]
  },
  {
   "cell_type": "code",
   "execution_count": 8,
   "metadata": {
    "collapsed": false
   },
   "outputs": [
    {
     "data": {
      "text/html": [
       "<div>\n",
       "<table border=\"1\" class=\"dataframe\">\n",
       "  <thead>\n",
       "    <tr style=\"text-align: right;\">\n",
       "      <th></th>\n",
       "      <th>cat1</th>\n",
       "      <th>cat2</th>\n",
       "      <th>cat3</th>\n",
       "      <th>cat4</th>\n",
       "      <th>cat5</th>\n",
       "      <th>cat6</th>\n",
       "      <th>cat7</th>\n",
       "      <th>cat8</th>\n",
       "      <th>cat9</th>\n",
       "      <th>cat10</th>\n",
       "      <th>...</th>\n",
       "      <th>cat113</th>\n",
       "      <th>cat114</th>\n",
       "      <th>cat115</th>\n",
       "      <th>cat116</th>\n",
       "      <th>cont2</th>\n",
       "      <th>cont3</th>\n",
       "      <th>cont4</th>\n",
       "      <th>cont5</th>\n",
       "      <th>cont14</th>\n",
       "      <th>loss</th>\n",
       "    </tr>\n",
       "  </thead>\n",
       "  <tbody>\n",
       "    <tr>\n",
       "      <th>0</th>\n",
       "      <td>A</td>\n",
       "      <td>B</td>\n",
       "      <td>A</td>\n",
       "      <td>B</td>\n",
       "      <td>A</td>\n",
       "      <td>A</td>\n",
       "      <td>A</td>\n",
       "      <td>A</td>\n",
       "      <td>B</td>\n",
       "      <td>A</td>\n",
       "      <td>...</td>\n",
       "      <td>S</td>\n",
       "      <td>A</td>\n",
       "      <td>O</td>\n",
       "      <td>LB</td>\n",
       "      <td>0.251001</td>\n",
       "      <td>0.187583</td>\n",
       "      <td>-0.229485</td>\n",
       "      <td>-1.675163</td>\n",
       "      <td>0.714843</td>\n",
       "      <td>2213.18</td>\n",
       "    </tr>\n",
       "    <tr>\n",
       "      <th>1</th>\n",
       "      <td>A</td>\n",
       "      <td>B</td>\n",
       "      <td>A</td>\n",
       "      <td>A</td>\n",
       "      <td>A</td>\n",
       "      <td>A</td>\n",
       "      <td>A</td>\n",
       "      <td>A</td>\n",
       "      <td>B</td>\n",
       "      <td>B</td>\n",
       "      <td>...</td>\n",
       "      <td>BM</td>\n",
       "      <td>A</td>\n",
       "      <td>O</td>\n",
       "      <td>DP</td>\n",
       "      <td>0.907727</td>\n",
       "      <td>0.592681</td>\n",
       "      <td>-0.459587</td>\n",
       "      <td>-0.125581</td>\n",
       "      <td>0.304496</td>\n",
       "      <td>1283.60</td>\n",
       "    </tr>\n",
       "    <tr>\n",
       "      <th>2</th>\n",
       "      <td>A</td>\n",
       "      <td>B</td>\n",
       "      <td>A</td>\n",
       "      <td>A</td>\n",
       "      <td>B</td>\n",
       "      <td>A</td>\n",
       "      <td>A</td>\n",
       "      <td>A</td>\n",
       "      <td>B</td>\n",
       "      <td>B</td>\n",
       "      <td>...</td>\n",
       "      <td>AF</td>\n",
       "      <td>A</td>\n",
       "      <td>I</td>\n",
       "      <td>GK</td>\n",
       "      <td>0.374485</td>\n",
       "      <td>0.484196</td>\n",
       "      <td>-1.213687</td>\n",
       "      <td>-1.221212</td>\n",
       "      <td>0.774425</td>\n",
       "      <td>3005.09</td>\n",
       "    </tr>\n",
       "  </tbody>\n",
       "</table>\n",
       "<p>3 rows × 122 columns</p>\n",
       "</div>"
      ],
      "text/plain": [
       "  cat1 cat2 cat3 cat4 cat5 cat6 cat7 cat8 cat9 cat10   ...    cat113 cat114  \\\n",
       "0    A    B    A    B    A    A    A    A    B     A   ...         S      A   \n",
       "1    A    B    A    A    A    A    A    A    B     B   ...        BM      A   \n",
       "2    A    B    A    A    B    A    A    A    B     B   ...        AF      A   \n",
       "\n",
       "  cat115 cat116     cont2     cont3     cont4     cont5    cont14     loss  \n",
       "0      O     LB  0.251001  0.187583 -0.229485 -1.675163  0.714843  2213.18  \n",
       "1      O     DP  0.907727  0.592681 -0.459587 -0.125581  0.304496  1283.60  \n",
       "2      I     GK  0.374485  0.484196 -1.213687 -1.221212  0.774425  3005.09  \n",
       "\n",
       "[3 rows x 122 columns]"
      ]
     },
     "execution_count": 8,
     "metadata": {},
     "output_type": "execute_result"
    }
   ],
   "source": [
    "#Apply appropriate transformations on the columns we want -- gosh, I sound like a commercial lol\n",
    "\n",
    "\n",
    "train['cont2'] = np.tan(train['cont2'])\n",
    "train['cont4'] = stats.boxcox(train['cont4'])[0]\n",
    "train['cont5'] = stats.boxcox(train['cont5'])[0]\n",
    "train.head(3)"
   ]
  },
  {
   "cell_type": "markdown",
   "metadata": {},
   "source": [
    "Next, let's create one-hot encodings for categorical variables."
   ]
  },
  {
   "cell_type": "code",
   "execution_count": 9,
   "metadata": {
    "collapsed": false
   },
   "outputs": [],
   "source": [
    "#drop_first = True to remove perfect multicollinearity\n",
    "train = pd.get_dummies(train, drop_first=True)"
   ]
  },
  {
   "cell_type": "markdown",
   "metadata": {},
   "source": [
    "## PREPARING DATA"
   ]
  },
  {
   "cell_type": "code",
   "execution_count": 14,
   "metadata": {
    "collapsed": false
   },
   "outputs": [
    {
     "data": {
      "text/plain": [
       "(150654, 1028)"
      ]
     },
     "execution_count": 14,
     "metadata": {},
     "output_type": "execute_result"
    }
   ],
   "source": [
    "X = train.drop('loss', axis = 1)\n",
    "Y = train['loss']\n",
    "X_train, X_val, Y_train, Y_val = train_test_split(X, Y, test_size=0.2, random_state=123)\n",
    "X_train.shape"
   ]
  },
  {
   "cell_type": "markdown",
   "metadata": {},
   "source": [
    "## LINEAR REGRESSION"
   ]
  },
  {
   "cell_type": "code",
   "execution_count": 15,
   "metadata": {
    "collapsed": true
   },
   "outputs": [],
   "source": [
    "from sklearn import linear_model"
   ]
  },
  {
   "cell_type": "code",
   "execution_count": 62,
   "metadata": {
    "collapsed": false
   },
   "outputs": [
    {
     "name": "stdout",
     "output_type": "stream",
     "text": [
      "Local train shape:  (150654, 1038)\n",
      "Local test shape:  (37664, 1038)\n"
     ]
    }
   ],
   "source": [
    "#Just checking the shape of train and test shape for validation\n",
    "print(\"Local train shape: \", X_train.shape)\n",
    "print(\"Local test shape: \", X_val.shape)"
   ]
  },
  {
   "cell_type": "markdown",
   "metadata": {},
   "source": [
    "Now let us run the model!"
   ]
  },
  {
   "cell_type": "code",
   "execution_count": 17,
   "metadata": {
    "collapsed": false,
    "scrolled": true
   },
   "outputs": [
    {
     "data": {
      "text/plain": [
       "LinearRegression(copy_X=True, fit_intercept=True, n_jobs=1, normalize=False)"
      ]
     },
     "execution_count": 17,
     "metadata": {},
     "output_type": "execute_result"
    }
   ],
   "source": [
    "clf = linear_model.LinearRegression()\n",
    "clf.fit(X_train, Y_train)"
   ]
  },
  {
   "cell_type": "markdown",
   "metadata": {},
   "source": [
    "Let's cross validate the model and see if it's robust."
   ]
  },
  {
   "cell_type": "code",
   "execution_count": 41,
   "metadata": {
    "collapsed": true
   },
   "outputs": [],
   "source": [
    "#Function for cross-validation scores\n",
    "def cv_stats(cv_score):\n",
    "    \"\"\" Returns the mean and standard deviation in a readable format\"\"\"\n",
    "    mean = np.mean(cv_score)\n",
    "    std = np.std(cv_score)\n",
    "    return mean, std"
   ]
  },
  {
   "cell_type": "code",
   "execution_count": 45,
   "metadata": {
    "collapsed": false
   },
   "outputs": [
    {
     "data": {
      "text/plain": [
       "(0.51487530645278956, 0.0039174138628955387)"
      ]
     },
     "execution_count": 45,
     "metadata": {},
     "output_type": "execute_result"
    }
   ],
   "source": [
    "clf_score = cross_val_score(clf, X_train, Y_train, cv = 5)\n",
    "cv_stats(clf_score)"
   ]
  },
  {
   "cell_type": "markdown",
   "metadata": {},
   "source": [
    "Let's try running this model for local_test or local validation."
   ]
  },
  {
   "cell_type": "code",
   "execution_count": 18,
   "metadata": {
    "collapsed": false
   },
   "outputs": [],
   "source": [
    "local_y_pred = clf.predict(X_val)"
   ]
  },
  {
   "cell_type": "markdown",
   "metadata": {},
   "source": [
    "Converting log(1+x)'ed scores back into actual loss response variables to check for MAE."
   ]
  },
  {
   "cell_type": "code",
   "execution_count": 22,
   "metadata": {
    "collapsed": false
   },
   "outputs": [
    {
     "data": {
      "text/plain": [
       "1244.5386469308219"
      ]
     },
     "execution_count": 22,
     "metadata": {},
     "output_type": "execute_result"
    }
   ],
   "source": [
    "local_lin_mae = mean_absolute_error(np.expm1(Y_val), np.expm1(local_y_pred))\n",
    "local_lin_mae"
   ]
  },
  {
   "cell_type": "markdown",
   "metadata": {},
   "source": [
    "## RANDOM FOREST"
   ]
  },
  {
   "cell_type": "markdown",
   "metadata": {
    "collapsed": true
   },
   "source": [
    "Linear Regression ain't good enough, so Random Forest it is: recall that from cat112, we believe that the data can be separated by state (51, including DC). So let's set the n_estimators to 51."
   ]
  },
  {
   "cell_type": "code",
   "execution_count": 6,
   "metadata": {
    "collapsed": true
   },
   "outputs": [],
   "source": [
    "from sklearn.ensemble import RandomForestRegressor"
   ]
  },
  {
   "cell_type": "code",
   "execution_count": 41,
   "metadata": {
    "collapsed": false
   },
   "outputs": [
    {
     "ename": "KeyboardInterrupt",
     "evalue": "",
     "output_type": "error",
     "traceback": [
      "\u001b[0;31m---------------------------------------------------------------------------\u001b[0m",
      "\u001b[0;31mKeyboardInterrupt\u001b[0m                         Traceback (most recent call last)",
      "\u001b[0;32m<ipython-input-41-90844f838e38>\u001b[0m in \u001b[0;36m<module>\u001b[0;34m()\u001b[0m\n\u001b[1;32m      1\u001b[0m \u001b[0mrf\u001b[0m \u001b[0;34m=\u001b[0m \u001b[0mRandomForestRegressor\u001b[0m\u001b[0;34m(\u001b[0m\u001b[0mn_estimators\u001b[0m\u001b[0;34m=\u001b[0m\u001b[0;36m51\u001b[0m\u001b[0;34m,\u001b[0m \u001b[0mrandom_state\u001b[0m \u001b[0;34m=\u001b[0m \u001b[0;36m123\u001b[0m\u001b[0;34m)\u001b[0m\u001b[0;34m\u001b[0m\u001b[0m\n\u001b[0;32m----> 2\u001b[0;31m \u001b[0mrf\u001b[0m\u001b[0;34m.\u001b[0m\u001b[0mfit\u001b[0m\u001b[0;34m(\u001b[0m\u001b[0mX_train\u001b[0m\u001b[0;34m,\u001b[0m\u001b[0mY_train\u001b[0m\u001b[0;34m)\u001b[0m\u001b[0;34m\u001b[0m\u001b[0m\n\u001b[0m\u001b[1;32m      3\u001b[0m \u001b[0mpreds\u001b[0m \u001b[0;34m=\u001b[0m \u001b[0mrf\u001b[0m\u001b[0;34m.\u001b[0m\u001b[0mpredict\u001b[0m\u001b[0;34m(\u001b[0m\u001b[0mX_val\u001b[0m\u001b[0;34m)\u001b[0m\u001b[0;34m\u001b[0m\u001b[0m\n\u001b[1;32m      4\u001b[0m \u001b[0mpreds\u001b[0m\u001b[0;34m[\u001b[0m\u001b[0;36m0\u001b[0m\u001b[0;34m:\u001b[0m\u001b[0;36m5\u001b[0m\u001b[0;34m]\u001b[0m\u001b[0;34m\u001b[0m\u001b[0m\n",
      "\u001b[0;32m/Users/jonghalee/anaconda3/lib/python3.5/site-packages/sklearn/ensemble/forest.py\u001b[0m in \u001b[0;36mfit\u001b[0;34m(self, X, y, sample_weight)\u001b[0m\n\u001b[1;32m    288\u001b[0m                     \u001b[0mt\u001b[0m\u001b[0;34m,\u001b[0m \u001b[0mself\u001b[0m\u001b[0;34m,\u001b[0m \u001b[0mX\u001b[0m\u001b[0;34m,\u001b[0m \u001b[0my\u001b[0m\u001b[0;34m,\u001b[0m \u001b[0msample_weight\u001b[0m\u001b[0;34m,\u001b[0m \u001b[0mi\u001b[0m\u001b[0;34m,\u001b[0m \u001b[0mlen\u001b[0m\u001b[0;34m(\u001b[0m\u001b[0mtrees\u001b[0m\u001b[0;34m)\u001b[0m\u001b[0;34m,\u001b[0m\u001b[0;34m\u001b[0m\u001b[0m\n\u001b[1;32m    289\u001b[0m                     verbose=self.verbose, class_weight=self.class_weight)\n\u001b[0;32m--> 290\u001b[0;31m                 for i, t in enumerate(trees))\n\u001b[0m\u001b[1;32m    291\u001b[0m \u001b[0;34m\u001b[0m\u001b[0m\n\u001b[1;32m    292\u001b[0m             \u001b[0;31m# Collect newly grown trees\u001b[0m\u001b[0;34m\u001b[0m\u001b[0;34m\u001b[0m\u001b[0m\n",
      "\u001b[0;32m/Users/jonghalee/anaconda3/lib/python3.5/site-packages/sklearn/externals/joblib/parallel.py\u001b[0m in \u001b[0;36m__call__\u001b[0;34m(self, iterable)\u001b[0m\n\u001b[1;32m    798\u001b[0m             \u001b[0;31m# was dispatched. In particular this covers the edge\u001b[0m\u001b[0;34m\u001b[0m\u001b[0;34m\u001b[0m\u001b[0m\n\u001b[1;32m    799\u001b[0m             \u001b[0;31m# case of Parallel used with an exhausted iterator.\u001b[0m\u001b[0;34m\u001b[0m\u001b[0;34m\u001b[0m\u001b[0m\n\u001b[0;32m--> 800\u001b[0;31m             \u001b[0;32mwhile\u001b[0m \u001b[0mself\u001b[0m\u001b[0;34m.\u001b[0m\u001b[0mdispatch_one_batch\u001b[0m\u001b[0;34m(\u001b[0m\u001b[0miterator\u001b[0m\u001b[0;34m)\u001b[0m\u001b[0;34m:\u001b[0m\u001b[0;34m\u001b[0m\u001b[0m\n\u001b[0m\u001b[1;32m    801\u001b[0m                 \u001b[0mself\u001b[0m\u001b[0;34m.\u001b[0m\u001b[0m_iterating\u001b[0m \u001b[0;34m=\u001b[0m \u001b[0;32mTrue\u001b[0m\u001b[0;34m\u001b[0m\u001b[0m\n\u001b[1;32m    802\u001b[0m             \u001b[0;32melse\u001b[0m\u001b[0;34m:\u001b[0m\u001b[0;34m\u001b[0m\u001b[0m\n",
      "\u001b[0;32m/Users/jonghalee/anaconda3/lib/python3.5/site-packages/sklearn/externals/joblib/parallel.py\u001b[0m in \u001b[0;36mdispatch_one_batch\u001b[0;34m(self, iterator)\u001b[0m\n\u001b[1;32m    656\u001b[0m                 \u001b[0;32mreturn\u001b[0m \u001b[0;32mFalse\u001b[0m\u001b[0;34m\u001b[0m\u001b[0m\n\u001b[1;32m    657\u001b[0m             \u001b[0;32melse\u001b[0m\u001b[0;34m:\u001b[0m\u001b[0;34m\u001b[0m\u001b[0m\n\u001b[0;32m--> 658\u001b[0;31m                 \u001b[0mself\u001b[0m\u001b[0;34m.\u001b[0m\u001b[0m_dispatch\u001b[0m\u001b[0;34m(\u001b[0m\u001b[0mtasks\u001b[0m\u001b[0;34m)\u001b[0m\u001b[0;34m\u001b[0m\u001b[0m\n\u001b[0m\u001b[1;32m    659\u001b[0m                 \u001b[0;32mreturn\u001b[0m \u001b[0;32mTrue\u001b[0m\u001b[0;34m\u001b[0m\u001b[0m\n\u001b[1;32m    660\u001b[0m \u001b[0;34m\u001b[0m\u001b[0m\n",
      "\u001b[0;32m/Users/jonghalee/anaconda3/lib/python3.5/site-packages/sklearn/externals/joblib/parallel.py\u001b[0m in \u001b[0;36m_dispatch\u001b[0;34m(self, batch)\u001b[0m\n\u001b[1;32m    564\u001b[0m \u001b[0;34m\u001b[0m\u001b[0m\n\u001b[1;32m    565\u001b[0m         \u001b[0;32mif\u001b[0m \u001b[0mself\u001b[0m\u001b[0;34m.\u001b[0m\u001b[0m_pool\u001b[0m \u001b[0;32mis\u001b[0m \u001b[0;32mNone\u001b[0m\u001b[0;34m:\u001b[0m\u001b[0;34m\u001b[0m\u001b[0m\n\u001b[0;32m--> 566\u001b[0;31m             \u001b[0mjob\u001b[0m \u001b[0;34m=\u001b[0m \u001b[0mImmediateComputeBatch\u001b[0m\u001b[0;34m(\u001b[0m\u001b[0mbatch\u001b[0m\u001b[0;34m)\u001b[0m\u001b[0;34m\u001b[0m\u001b[0m\n\u001b[0m\u001b[1;32m    567\u001b[0m             \u001b[0mself\u001b[0m\u001b[0;34m.\u001b[0m\u001b[0m_jobs\u001b[0m\u001b[0;34m.\u001b[0m\u001b[0mappend\u001b[0m\u001b[0;34m(\u001b[0m\u001b[0mjob\u001b[0m\u001b[0;34m)\u001b[0m\u001b[0;34m\u001b[0m\u001b[0m\n\u001b[1;32m    568\u001b[0m             \u001b[0mself\u001b[0m\u001b[0;34m.\u001b[0m\u001b[0mn_dispatched_batches\u001b[0m \u001b[0;34m+=\u001b[0m \u001b[0;36m1\u001b[0m\u001b[0;34m\u001b[0m\u001b[0m\n",
      "\u001b[0;32m/Users/jonghalee/anaconda3/lib/python3.5/site-packages/sklearn/externals/joblib/parallel.py\u001b[0m in \u001b[0;36m__init__\u001b[0;34m(self, batch)\u001b[0m\n\u001b[1;32m    178\u001b[0m         \u001b[0;31m# Don't delay the application, to avoid keeping the input\u001b[0m\u001b[0;34m\u001b[0m\u001b[0;34m\u001b[0m\u001b[0m\n\u001b[1;32m    179\u001b[0m         \u001b[0;31m# arguments in memory\u001b[0m\u001b[0;34m\u001b[0m\u001b[0;34m\u001b[0m\u001b[0m\n\u001b[0;32m--> 180\u001b[0;31m         \u001b[0mself\u001b[0m\u001b[0;34m.\u001b[0m\u001b[0mresults\u001b[0m \u001b[0;34m=\u001b[0m \u001b[0mbatch\u001b[0m\u001b[0;34m(\u001b[0m\u001b[0;34m)\u001b[0m\u001b[0;34m\u001b[0m\u001b[0m\n\u001b[0m\u001b[1;32m    181\u001b[0m \u001b[0;34m\u001b[0m\u001b[0m\n\u001b[1;32m    182\u001b[0m     \u001b[0;32mdef\u001b[0m \u001b[0mget\u001b[0m\u001b[0;34m(\u001b[0m\u001b[0mself\u001b[0m\u001b[0;34m)\u001b[0m\u001b[0;34m:\u001b[0m\u001b[0;34m\u001b[0m\u001b[0m\n",
      "\u001b[0;32m/Users/jonghalee/anaconda3/lib/python3.5/site-packages/sklearn/externals/joblib/parallel.py\u001b[0m in \u001b[0;36m__call__\u001b[0;34m(self)\u001b[0m\n\u001b[1;32m     70\u001b[0m \u001b[0;34m\u001b[0m\u001b[0m\n\u001b[1;32m     71\u001b[0m     \u001b[0;32mdef\u001b[0m \u001b[0m__call__\u001b[0m\u001b[0;34m(\u001b[0m\u001b[0mself\u001b[0m\u001b[0;34m)\u001b[0m\u001b[0;34m:\u001b[0m\u001b[0;34m\u001b[0m\u001b[0m\n\u001b[0;32m---> 72\u001b[0;31m         \u001b[0;32mreturn\u001b[0m \u001b[0;34m[\u001b[0m\u001b[0mfunc\u001b[0m\u001b[0;34m(\u001b[0m\u001b[0;34m*\u001b[0m\u001b[0margs\u001b[0m\u001b[0;34m,\u001b[0m \u001b[0;34m**\u001b[0m\u001b[0mkwargs\u001b[0m\u001b[0;34m)\u001b[0m \u001b[0;32mfor\u001b[0m \u001b[0mfunc\u001b[0m\u001b[0;34m,\u001b[0m \u001b[0margs\u001b[0m\u001b[0;34m,\u001b[0m \u001b[0mkwargs\u001b[0m \u001b[0;32min\u001b[0m \u001b[0mself\u001b[0m\u001b[0;34m.\u001b[0m\u001b[0mitems\u001b[0m\u001b[0;34m]\u001b[0m\u001b[0;34m\u001b[0m\u001b[0m\n\u001b[0m\u001b[1;32m     73\u001b[0m \u001b[0;34m\u001b[0m\u001b[0m\n\u001b[1;32m     74\u001b[0m     \u001b[0;32mdef\u001b[0m \u001b[0m__len__\u001b[0m\u001b[0;34m(\u001b[0m\u001b[0mself\u001b[0m\u001b[0;34m)\u001b[0m\u001b[0;34m:\u001b[0m\u001b[0;34m\u001b[0m\u001b[0m\n",
      "\u001b[0;32m/Users/jonghalee/anaconda3/lib/python3.5/site-packages/sklearn/externals/joblib/parallel.py\u001b[0m in \u001b[0;36m<listcomp>\u001b[0;34m(.0)\u001b[0m\n\u001b[1;32m     70\u001b[0m \u001b[0;34m\u001b[0m\u001b[0m\n\u001b[1;32m     71\u001b[0m     \u001b[0;32mdef\u001b[0m \u001b[0m__call__\u001b[0m\u001b[0;34m(\u001b[0m\u001b[0mself\u001b[0m\u001b[0;34m)\u001b[0m\u001b[0;34m:\u001b[0m\u001b[0;34m\u001b[0m\u001b[0m\n\u001b[0;32m---> 72\u001b[0;31m         \u001b[0;32mreturn\u001b[0m \u001b[0;34m[\u001b[0m\u001b[0mfunc\u001b[0m\u001b[0;34m(\u001b[0m\u001b[0;34m*\u001b[0m\u001b[0margs\u001b[0m\u001b[0;34m,\u001b[0m \u001b[0;34m**\u001b[0m\u001b[0mkwargs\u001b[0m\u001b[0;34m)\u001b[0m \u001b[0;32mfor\u001b[0m \u001b[0mfunc\u001b[0m\u001b[0;34m,\u001b[0m \u001b[0margs\u001b[0m\u001b[0;34m,\u001b[0m \u001b[0mkwargs\u001b[0m \u001b[0;32min\u001b[0m \u001b[0mself\u001b[0m\u001b[0;34m.\u001b[0m\u001b[0mitems\u001b[0m\u001b[0;34m]\u001b[0m\u001b[0;34m\u001b[0m\u001b[0m\n\u001b[0m\u001b[1;32m     73\u001b[0m \u001b[0;34m\u001b[0m\u001b[0m\n\u001b[1;32m     74\u001b[0m     \u001b[0;32mdef\u001b[0m \u001b[0m__len__\u001b[0m\u001b[0;34m(\u001b[0m\u001b[0mself\u001b[0m\u001b[0;34m)\u001b[0m\u001b[0;34m:\u001b[0m\u001b[0;34m\u001b[0m\u001b[0m\n",
      "\u001b[0;32m/Users/jonghalee/anaconda3/lib/python3.5/site-packages/sklearn/ensemble/forest.py\u001b[0m in \u001b[0;36m_parallel_build_trees\u001b[0;34m(tree, forest, X, y, sample_weight, tree_idx, n_trees, verbose, class_weight)\u001b[0m\n\u001b[1;32m    114\u001b[0m             \u001b[0mcurr_sample_weight\u001b[0m \u001b[0;34m*=\u001b[0m \u001b[0mcompute_sample_weight\u001b[0m\u001b[0;34m(\u001b[0m\u001b[0;34m'balanced'\u001b[0m\u001b[0;34m,\u001b[0m \u001b[0my\u001b[0m\u001b[0;34m,\u001b[0m \u001b[0mindices\u001b[0m\u001b[0;34m)\u001b[0m\u001b[0;34m\u001b[0m\u001b[0m\n\u001b[1;32m    115\u001b[0m \u001b[0;34m\u001b[0m\u001b[0m\n\u001b[0;32m--> 116\u001b[0;31m         \u001b[0mtree\u001b[0m\u001b[0;34m.\u001b[0m\u001b[0mfit\u001b[0m\u001b[0;34m(\u001b[0m\u001b[0mX\u001b[0m\u001b[0;34m,\u001b[0m \u001b[0my\u001b[0m\u001b[0;34m,\u001b[0m \u001b[0msample_weight\u001b[0m\u001b[0;34m=\u001b[0m\u001b[0mcurr_sample_weight\u001b[0m\u001b[0;34m,\u001b[0m \u001b[0mcheck_input\u001b[0m\u001b[0;34m=\u001b[0m\u001b[0;32mFalse\u001b[0m\u001b[0;34m)\u001b[0m\u001b[0;34m\u001b[0m\u001b[0m\n\u001b[0m\u001b[1;32m    117\u001b[0m     \u001b[0;32melse\u001b[0m\u001b[0;34m:\u001b[0m\u001b[0;34m\u001b[0m\u001b[0m\n\u001b[1;32m    118\u001b[0m         \u001b[0mtree\u001b[0m\u001b[0;34m.\u001b[0m\u001b[0mfit\u001b[0m\u001b[0;34m(\u001b[0m\u001b[0mX\u001b[0m\u001b[0;34m,\u001b[0m \u001b[0my\u001b[0m\u001b[0;34m,\u001b[0m \u001b[0msample_weight\u001b[0m\u001b[0;34m=\u001b[0m\u001b[0msample_weight\u001b[0m\u001b[0;34m,\u001b[0m \u001b[0mcheck_input\u001b[0m\u001b[0;34m=\u001b[0m\u001b[0;32mFalse\u001b[0m\u001b[0;34m)\u001b[0m\u001b[0;34m\u001b[0m\u001b[0m\n",
      "\u001b[0;32m/Users/jonghalee/anaconda3/lib/python3.5/site-packages/sklearn/tree/tree.py\u001b[0m in \u001b[0;36mfit\u001b[0;34m(self, X, y, sample_weight, check_input, X_idx_sorted)\u001b[0m\n\u001b[1;32m    348\u001b[0m                                            max_leaf_nodes)\n\u001b[1;32m    349\u001b[0m \u001b[0;34m\u001b[0m\u001b[0m\n\u001b[0;32m--> 350\u001b[0;31m         \u001b[0mbuilder\u001b[0m\u001b[0;34m.\u001b[0m\u001b[0mbuild\u001b[0m\u001b[0;34m(\u001b[0m\u001b[0mself\u001b[0m\u001b[0;34m.\u001b[0m\u001b[0mtree_\u001b[0m\u001b[0;34m,\u001b[0m \u001b[0mX\u001b[0m\u001b[0;34m,\u001b[0m \u001b[0my\u001b[0m\u001b[0;34m,\u001b[0m \u001b[0msample_weight\u001b[0m\u001b[0;34m,\u001b[0m \u001b[0mX_idx_sorted\u001b[0m\u001b[0;34m)\u001b[0m\u001b[0;34m\u001b[0m\u001b[0m\n\u001b[0m\u001b[1;32m    351\u001b[0m \u001b[0;34m\u001b[0m\u001b[0m\n\u001b[1;32m    352\u001b[0m         \u001b[0;32mif\u001b[0m \u001b[0mself\u001b[0m\u001b[0;34m.\u001b[0m\u001b[0mn_outputs_\u001b[0m \u001b[0;34m==\u001b[0m \u001b[0;36m1\u001b[0m\u001b[0;34m:\u001b[0m\u001b[0;34m\u001b[0m\u001b[0m\n",
      "\u001b[0;31mKeyboardInterrupt\u001b[0m: "
     ]
    }
   ],
   "source": [
    "rf = RandomForestRegressor(n_estimators=51, random_state = 123)\n",
    "rf.fit(X_train,Y_train)\n",
    "preds = rf.predict(X_val)\n",
    "preds[0:5]"
   ]
  },
  {
   "cell_type": "code",
   "execution_count": 39,
   "metadata": {
    "collapsed": false
   },
   "outputs": [
    {
     "ename": "NameError",
     "evalue": "name 'preds' is not defined",
     "output_type": "error",
     "traceback": [
      "\u001b[0;31m---------------------------------------------------------------------------\u001b[0m",
      "\u001b[0;31mNameError\u001b[0m                                 Traceback (most recent call last)",
      "\u001b[0;32m<ipython-input-39-d71a7380c5d0>\u001b[0m in \u001b[0;36m<module>\u001b[0;34m()\u001b[0m\n\u001b[0;32m----> 1\u001b[0;31m \u001b[0mlocal_rf_mae\u001b[0m \u001b[0;34m=\u001b[0m \u001b[0mmean_absolute_error\u001b[0m\u001b[0;34m(\u001b[0m\u001b[0mnp\u001b[0m\u001b[0;34m.\u001b[0m\u001b[0mexpm1\u001b[0m\u001b[0;34m(\u001b[0m\u001b[0mY_val\u001b[0m\u001b[0;34m)\u001b[0m\u001b[0;34m,\u001b[0m \u001b[0mnp\u001b[0m\u001b[0;34m.\u001b[0m\u001b[0mexpm1\u001b[0m\u001b[0;34m(\u001b[0m\u001b[0mpreds\u001b[0m\u001b[0;34m)\u001b[0m\u001b[0;34m)\u001b[0m\u001b[0;34m\u001b[0m\u001b[0m\n\u001b[0m\u001b[1;32m      2\u001b[0m \u001b[0mlocal_rf_mae\u001b[0m\u001b[0;34m\u001b[0m\u001b[0m\n",
      "\u001b[0;31mNameError\u001b[0m: name 'preds' is not defined"
     ]
    }
   ],
   "source": [
    "local_rf_mae = mean_absolute_error(np.expm1(Y_val), np.expm1(preds))\n",
    "local_rf_mae"
   ]
  },
  {
   "cell_type": "markdown",
   "metadata": {},
   "source": [
    "## MAKING A SUBMISSION"
   ]
  },
  {
   "cell_type": "markdown",
   "metadata": {},
   "source": [
    "Feature Engineering Test Data:"
   ]
  },
  {
   "cell_type": "code",
   "execution_count": null,
   "metadata": {
    "collapsed": true
   },
   "outputs": [],
   "source": [
    "train = pd.read_csv('train.csv')\n",
    "test = pd.read_csv('test.csv')"
   ]
  },
  {
   "cell_type": "code",
   "execution_count": 27,
   "metadata": {
    "collapsed": false
   },
   "outputs": [
    {
     "data": {
      "text/plain": [
       "0    7.702637\n",
       "1    7.158203\n",
       "2    8.008396\n",
       "3    6.846784\n",
       "4    7.924742\n",
       "Name: loss, dtype: float64"
      ]
     },
     "execution_count": 27,
     "metadata": {},
     "output_type": "execute_result"
    }
   ],
   "source": [
    "#Re-preparing data for global/total dataset\n",
    "Y_train = np.log1p(train['loss'])\n",
    "Y_train.head()"
   ]
  },
  {
   "cell_type": "code",
   "execution_count": 11,
   "metadata": {
    "collapsed": false
   },
   "outputs": [
    {
     "data": {
      "text/plain": [
       "(313864, 1066)"
      ]
     },
     "execution_count": 11,
     "metadata": {},
     "output_type": "execute_result"
    }
   ],
   "source": [
    "data = pd.concat([train, test], axis = 0)\n",
    "ID = test['id']\n",
    "unwanted_list = ['id', 'cont1','cont6','cont7','cont8','cont9','cont10', 'cont11','cont12','cont13']\n",
    "data.drop(unwanted_list, axis = 1, inplace = True)\n",
    "data['cont2'] = np.tan(data['cont2'])\n",
    "data['cont4'] = stats.boxcox(data['cont4'])[0]\n",
    "data['cont5'] = stats.boxcox(data['cont5'])[0]\n",
    "data = pd.get_dummies(data, drop_first=True) \n",
    "data.shape"
   ]
  },
  {
   "cell_type": "code",
   "execution_count": 23,
   "metadata": {
    "collapsed": false
   },
   "outputs": [
    {
     "data": {
      "text/plain": [
       "(188318, 1065)"
      ]
     },
     "execution_count": 23,
     "metadata": {},
     "output_type": "execute_result"
    }
   ],
   "source": [
    "X_train = data[pd.notnull(data['loss'])].drop('loss', axis = 1)\n",
    "X_train.shape"
   ]
  },
  {
   "cell_type": "markdown",
   "metadata": {},
   "source": [
    "Training Model with all train.csv datapoints:"
   ]
  },
  {
   "cell_type": "code",
   "execution_count": 28,
   "metadata": {
    "collapsed": false
   },
   "outputs": [
    {
     "data": {
      "text/plain": [
       "RandomForestRegressor(bootstrap=True, criterion='mse', max_depth=None,\n",
       "           max_features='auto', max_leaf_nodes=None, min_samples_leaf=1,\n",
       "           min_samples_split=2, min_weight_fraction_leaf=0.0,\n",
       "           n_estimators=51, n_jobs=3, oob_score=False, random_state=123,\n",
       "           verbose=0, warm_start=False)"
      ]
     },
     "execution_count": 28,
     "metadata": {},
     "output_type": "execute_result"
    }
   ],
   "source": [
    "best_model = RandomForestRegressor(n_estimators = 51, random_state = 123, n_jobs = 3)\n",
    "best_model.fit(X_train,Y_train)"
   ]
  },
  {
   "cell_type": "markdown",
   "metadata": {},
   "source": [
    "Making Submission:"
   ]
  },
  {
   "cell_type": "code",
   "execution_count": 35,
   "metadata": {
    "collapsed": false
   },
   "outputs": [
    {
     "data": {
      "text/plain": [
       "array([ 1982.601879  ,  2311.00095181,  9406.93242042,  5280.8919217 ,\n",
       "         718.73366417])"
      ]
     },
     "execution_count": 35,
     "metadata": {},
     "output_type": "execute_result"
    }
   ],
   "source": [
    "X_test = data[pd.isnull(data['loss'])].drop('loss', axis = 1)\n",
    "predictions = np.expm1(best_model.predict(X_test))\n",
    "predictions[0:5]"
   ]
  },
  {
   "cell_type": "code",
   "execution_count": 40,
   "metadata": {
    "collapsed": true
   },
   "outputs": [],
   "source": [
    "with open(\"submission_new.csv\", \"w\") as subfile:\n",
    "    subfile.write(\"id,loss\\n\")\n",
    "    for i, pred in enumerate(list(predictions)):\n",
    "        subfile.write(\"%s,%s\\n\"%(ID[i],pred))"
   ]
  },
  {
   "cell_type": "markdown",
   "metadata": {
    "collapsed": true
   },
   "source": [
    "## SIDE: XGBOOST"
   ]
  },
  {
   "cell_type": "code",
   "execution_count": 39,
   "metadata": {
    "collapsed": false
   },
   "outputs": [
    {
     "ename": "ImportError",
     "evalue": "No module named 'xgboost'",
     "output_type": "error",
     "traceback": [
      "\u001b[0;31m---------------------------------------------------------------------------\u001b[0m",
      "\u001b[0;31mImportError\u001b[0m                               Traceback (most recent call last)",
      "\u001b[0;32m<ipython-input-39-b25935c1568f>\u001b[0m in \u001b[0;36m<module>\u001b[0;34m()\u001b[0m\n\u001b[0;32m----> 1\u001b[0;31m \u001b[0;32mfrom\u001b[0m \u001b[0mxgboost\u001b[0m \u001b[0;32mimport\u001b[0m \u001b[0mXGBRegressor\u001b[0m\u001b[0;34m\u001b[0m\u001b[0m\n\u001b[0m",
      "\u001b[0;31mImportError\u001b[0m: No module named 'xgboost'"
     ]
    }
   ],
   "source": [
    "from xgboost import XGBRegressor"
   ]
  },
  {
   "cell_type": "code",
   "execution_count": 38,
   "metadata": {
    "collapsed": false
   },
   "outputs": [
    {
     "ename": "NameError",
     "evalue": "name 'XGBRegressor' is not defined",
     "output_type": "error",
     "traceback": [
      "\u001b[0;31m---------------------------------------------------------------------------\u001b[0m",
      "\u001b[0;31mNameError\u001b[0m                                 Traceback (most recent call last)",
      "\u001b[0;32m<ipython-input-38-74e691acf296>\u001b[0m in \u001b[0;36m<module>\u001b[0;34m()\u001b[0m\n\u001b[0;32m----> 1\u001b[0;31m \u001b[0mxgb\u001b[0m \u001b[0;34m=\u001b[0m \u001b[0mXGBRegressor\u001b[0m\u001b[0;34m(\u001b[0m\u001b[0mn_estimators\u001b[0m\u001b[0;34m=\u001b[0m \u001b[0;36m51\u001b[0m\u001b[0;34m,\u001b[0m \u001b[0mseed\u001b[0m \u001b[0;34m=\u001b[0m \u001b[0;36m124\u001b[0m\u001b[0;34m)\u001b[0m\u001b[0;34m\u001b[0m\u001b[0m\n\u001b[0m\u001b[1;32m      2\u001b[0m \u001b[0mxgb\u001b[0m\u001b[0;34m.\u001b[0m\u001b[0mfit\u001b[0m\u001b[0;34m(\u001b[0m\u001b[0mX_train\u001b[0m\u001b[0;34m,\u001b[0m\u001b[0mY_train\u001b[0m\u001b[0;34m)\u001b[0m\u001b[0;34m\u001b[0m\u001b[0m\n",
      "\u001b[0;31mNameError\u001b[0m: name 'XGBRegressor' is not defined"
     ]
    }
   ],
   "source": [
    "xgb = XGBRegressor(n_estimators= 51, seed = 124)\n",
    "xgb.fit(X_train,Y_train)"
   ]
  },
  {
   "cell_type": "code",
   "execution_count": null,
   "metadata": {
    "collapsed": true
   },
   "outputs": [],
   "source": [
    "xgb_preds = np.expm1(xgb.predict(test))\n",
    "xgb_preds[0:5]"
   ]
  },
  {
   "cell_type": "code",
   "execution_count": null,
   "metadata": {
    "collapsed": true
   },
   "outputs": [],
   "source": [
    "with open(\"xgb_submission.csv\", \"w\") as subfile:\n",
    "    subfile.write(\"id,loss\\n\")\n",
    "    for i, pred in enumerate(list(predictions)):\n",
    "        subfile.write(\"%s,%s\\n\"%(ID[i],pred))"
   ]
  }
 ],
 "metadata": {
  "anaconda-cloud": {},
  "kernelspec": {
   "display_name": "Python 3",
   "language": "python",
   "name": "python3"
  },
  "language_info": {
   "codemirror_mode": {
    "name": "ipython",
    "version": 3
   },
   "file_extension": ".py",
   "mimetype": "text/x-python",
   "name": "python",
   "nbconvert_exporter": "python",
   "pygments_lexer": "ipython3",
   "version": "3.5.2"
  }
 },
 "nbformat": 4,
 "nbformat_minor": 0
}
